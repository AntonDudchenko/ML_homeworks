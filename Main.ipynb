{
 "cells": [
  {
   "cell_type": "code",
   "execution_count": 1,
   "id": "4b9de7a8",
   "metadata": {},
   "outputs": [],
   "source": [
    "import sklearn\n",
    "from sklearn.model_selection import train_test_split\n",
    "import seaborn as sns\n",
    "import pandas as pd\n",
    "import numpy as np\n",
    "import matplotlib.pyplot as plt\n",
    "%matplotlib inline"
   ]
  },
  {
   "cell_type": "markdown",
   "id": "5fa7a804",
   "metadata": {},
   "source": [
    "# 0. Описание задачи"
   ]
  },
  {
   "cell_type": "markdown",
   "id": "a7ea21b7",
   "metadata": {},
   "source": [
    "Исходная таблица с данными содержит статистику по сотрудникам. Необходимо по значениям признаков узнать, покинет ли сотрудник компанию в ближайшие два года. 10% данных из исходной таблицы было удалено (кроме значений классов).\n",
    "\n",
    "Признаки:\n",
    "* Idx - порядковый номер\n",
    "* Education - уровень образования сотрудника {Bachelors, Masters, Phd}\n",
    "* JoiningYear - год начала работы в компании {2012, 2013, 2014, 2015, 2016, 2017, 2018}\n",
    "* City - город, в котором работает сотрудник {Bangalore, Pune, New Delhi}\n",
    "* PaymentTier - уровень оплаты {1, 2, 3}\n",
    "* Age - возраст сотрудника\n",
    "* Gender - пол сотрудника {Male, Female}\n",
    "* EverBenched - находился ли сотрудник \"в запасе\" (не работал ни над одним из проектов)\n",
    "* ExperienceInCurrentDomain - опыт сотрудника в текущем проекте\n",
    "* LeaveOrNot - покинул ли сотрудник организацию"
   ]
  },
  {
   "cell_type": "markdown",
   "id": "a676f8b5",
   "metadata": {},
   "source": [
    "# 1. Чтение данных"
   ]
  },
  {
   "cell_type": "code",
   "execution_count": 2,
   "id": "205b08d4",
   "metadata": {},
   "outputs": [],
   "source": [
    "file = \"out.csv\"\n",
    "data_raw = pd.read_csv(file)"
   ]
  },
  {
   "cell_type": "code",
   "execution_count": 3,
   "id": "09d65061",
   "metadata": {},
   "outputs": [
    {
     "data": {
      "text/plain": [
       "(4653, 10)"
      ]
     },
     "execution_count": 3,
     "metadata": {},
     "output_type": "execute_result"
    }
   ],
   "source": [
    "data_raw.shape"
   ]
  },
  {
   "cell_type": "code",
   "execution_count": 4,
   "id": "82e481ea",
   "metadata": {},
   "outputs": [
    {
     "data": {
      "text/html": [
       "<div>\n",
       "<style scoped>\n",
       "    .dataframe tbody tr th:only-of-type {\n",
       "        vertical-align: middle;\n",
       "    }\n",
       "\n",
       "    .dataframe tbody tr th {\n",
       "        vertical-align: top;\n",
       "    }\n",
       "\n",
       "    .dataframe thead th {\n",
       "        text-align: right;\n",
       "    }\n",
       "</style>\n",
       "<table border=\"1\" class=\"dataframe\">\n",
       "  <thead>\n",
       "    <tr style=\"text-align: right;\">\n",
       "      <th></th>\n",
       "      <th>Idx</th>\n",
       "      <th>Education</th>\n",
       "      <th>JoiningYear</th>\n",
       "      <th>City</th>\n",
       "      <th>PaymentTier</th>\n",
       "      <th>Age</th>\n",
       "      <th>Gender</th>\n",
       "      <th>EverBenched</th>\n",
       "      <th>ExperienceInCurrentDomain</th>\n",
       "      <th>LeaveOrNot</th>\n",
       "    </tr>\n",
       "  </thead>\n",
       "  <tbody>\n",
       "    <tr>\n",
       "      <th>0</th>\n",
       "      <td>0</td>\n",
       "      <td>Bachelors</td>\n",
       "      <td>2017.0</td>\n",
       "      <td>Bangalore</td>\n",
       "      <td>3.0</td>\n",
       "      <td>34.0</td>\n",
       "      <td>Male</td>\n",
       "      <td>No</td>\n",
       "      <td>0.0</td>\n",
       "      <td>0</td>\n",
       "    </tr>\n",
       "    <tr>\n",
       "      <th>1</th>\n",
       "      <td>1</td>\n",
       "      <td>Bachelors</td>\n",
       "      <td>2013.0</td>\n",
       "      <td>Pune</td>\n",
       "      <td>1.0</td>\n",
       "      <td>28.0</td>\n",
       "      <td>Female</td>\n",
       "      <td>No</td>\n",
       "      <td>NaN</td>\n",
       "      <td>1</td>\n",
       "    </tr>\n",
       "    <tr>\n",
       "      <th>2</th>\n",
       "      <td>2</td>\n",
       "      <td>Bachelors</td>\n",
       "      <td>NaN</td>\n",
       "      <td>New Delhi</td>\n",
       "      <td>3.0</td>\n",
       "      <td>38.0</td>\n",
       "      <td>Female</td>\n",
       "      <td>No</td>\n",
       "      <td>2.0</td>\n",
       "      <td>0</td>\n",
       "    </tr>\n",
       "    <tr>\n",
       "      <th>3</th>\n",
       "      <td>3</td>\n",
       "      <td>Masters</td>\n",
       "      <td>2016.0</td>\n",
       "      <td>Bangalore</td>\n",
       "      <td>3.0</td>\n",
       "      <td>27.0</td>\n",
       "      <td>Male</td>\n",
       "      <td>No</td>\n",
       "      <td>NaN</td>\n",
       "      <td>1</td>\n",
       "    </tr>\n",
       "    <tr>\n",
       "      <th>4</th>\n",
       "      <td>4</td>\n",
       "      <td>Masters</td>\n",
       "      <td>2017.0</td>\n",
       "      <td>Pune</td>\n",
       "      <td>3.0</td>\n",
       "      <td>24.0</td>\n",
       "      <td>Male</td>\n",
       "      <td>NaN</td>\n",
       "      <td>2.0</td>\n",
       "      <td>1</td>\n",
       "    </tr>\n",
       "  </tbody>\n",
       "</table>\n",
       "</div>"
      ],
      "text/plain": [
       "   Idx  Education  JoiningYear       City  PaymentTier   Age  Gender  \\\n",
       "0    0  Bachelors       2017.0  Bangalore          3.0  34.0    Male   \n",
       "1    1  Bachelors       2013.0       Pune          1.0  28.0  Female   \n",
       "2    2  Bachelors          NaN  New Delhi          3.0  38.0  Female   \n",
       "3    3    Masters       2016.0  Bangalore          3.0  27.0    Male   \n",
       "4    4    Masters       2017.0       Pune          3.0  24.0    Male   \n",
       "\n",
       "  EverBenched  ExperienceInCurrentDomain  LeaveOrNot  \n",
       "0          No                        0.0           0  \n",
       "1          No                        NaN           1  \n",
       "2          No                        2.0           0  \n",
       "3          No                        NaN           1  \n",
       "4         NaN                        2.0           1  "
      ]
     },
     "execution_count": 4,
     "metadata": {},
     "output_type": "execute_result"
    }
   ],
   "source": [
    "data_raw.head()"
   ]
  },
  {
   "cell_type": "code",
   "execution_count": 5,
   "id": "2f2282a4",
   "metadata": {},
   "outputs": [
    {
     "data": {
      "text/html": [
       "<div>\n",
       "<style scoped>\n",
       "    .dataframe tbody tr th:only-of-type {\n",
       "        vertical-align: middle;\n",
       "    }\n",
       "\n",
       "    .dataframe tbody tr th {\n",
       "        vertical-align: top;\n",
       "    }\n",
       "\n",
       "    .dataframe thead th {\n",
       "        text-align: right;\n",
       "    }\n",
       "</style>\n",
       "<table border=\"1\" class=\"dataframe\">\n",
       "  <thead>\n",
       "    <tr style=\"text-align: right;\">\n",
       "      <th></th>\n",
       "      <th>Idx</th>\n",
       "      <th>Education</th>\n",
       "      <th>JoiningYear</th>\n",
       "      <th>City</th>\n",
       "      <th>PaymentTier</th>\n",
       "      <th>Age</th>\n",
       "      <th>Gender</th>\n",
       "      <th>EverBenched</th>\n",
       "      <th>ExperienceInCurrentDomain</th>\n",
       "      <th>LeaveOrNot</th>\n",
       "    </tr>\n",
       "  </thead>\n",
       "  <tbody>\n",
       "    <tr>\n",
       "      <th>4648</th>\n",
       "      <td>4648</td>\n",
       "      <td>Bachelors</td>\n",
       "      <td>2013.0</td>\n",
       "      <td>Bangalore</td>\n",
       "      <td>3.0</td>\n",
       "      <td>26.0</td>\n",
       "      <td>Female</td>\n",
       "      <td>No</td>\n",
       "      <td>4.0</td>\n",
       "      <td>0</td>\n",
       "    </tr>\n",
       "    <tr>\n",
       "      <th>4649</th>\n",
       "      <td>4649</td>\n",
       "      <td>Masters</td>\n",
       "      <td>2013.0</td>\n",
       "      <td>Pune</td>\n",
       "      <td>2.0</td>\n",
       "      <td>37.0</td>\n",
       "      <td>Male</td>\n",
       "      <td>No</td>\n",
       "      <td>NaN</td>\n",
       "      <td>1</td>\n",
       "    </tr>\n",
       "    <tr>\n",
       "      <th>4650</th>\n",
       "      <td>4650</td>\n",
       "      <td>Masters</td>\n",
       "      <td>2018.0</td>\n",
       "      <td>NaN</td>\n",
       "      <td>3.0</td>\n",
       "      <td>27.0</td>\n",
       "      <td>Male</td>\n",
       "      <td>No</td>\n",
       "      <td>5.0</td>\n",
       "      <td>1</td>\n",
       "    </tr>\n",
       "    <tr>\n",
       "      <th>4651</th>\n",
       "      <td>4651</td>\n",
       "      <td>Bachelors</td>\n",
       "      <td>2012.0</td>\n",
       "      <td>Bangalore</td>\n",
       "      <td>NaN</td>\n",
       "      <td>30.0</td>\n",
       "      <td>Male</td>\n",
       "      <td>Yes</td>\n",
       "      <td>2.0</td>\n",
       "      <td>0</td>\n",
       "    </tr>\n",
       "    <tr>\n",
       "      <th>4652</th>\n",
       "      <td>4652</td>\n",
       "      <td>Bachelors</td>\n",
       "      <td>2015.0</td>\n",
       "      <td>Bangalore</td>\n",
       "      <td>3.0</td>\n",
       "      <td>33.0</td>\n",
       "      <td>NaN</td>\n",
       "      <td>Yes</td>\n",
       "      <td>4.0</td>\n",
       "      <td>0</td>\n",
       "    </tr>\n",
       "  </tbody>\n",
       "</table>\n",
       "</div>"
      ],
      "text/plain": [
       "       Idx  Education  JoiningYear       City  PaymentTier   Age  Gender  \\\n",
       "4648  4648  Bachelors       2013.0  Bangalore          3.0  26.0  Female   \n",
       "4649  4649    Masters       2013.0       Pune          2.0  37.0    Male   \n",
       "4650  4650    Masters       2018.0        NaN          3.0  27.0    Male   \n",
       "4651  4651  Bachelors       2012.0  Bangalore          NaN  30.0    Male   \n",
       "4652  4652  Bachelors       2015.0  Bangalore          3.0  33.0     NaN   \n",
       "\n",
       "     EverBenched  ExperienceInCurrentDomain  LeaveOrNot  \n",
       "4648          No                        4.0           0  \n",
       "4649          No                        NaN           1  \n",
       "4650          No                        5.0           1  \n",
       "4651         Yes                        2.0           0  \n",
       "4652         Yes                        4.0           0  "
      ]
     },
     "execution_count": 5,
     "metadata": {},
     "output_type": "execute_result"
    }
   ],
   "source": [
    "data_raw.tail()"
   ]
  },
  {
   "cell_type": "markdown",
   "id": "30461ccc",
   "metadata": {},
   "source": [
    "Удалим столбец с индексом"
   ]
  },
  {
   "cell_type": "code",
   "execution_count": 6,
   "id": "d84475c7",
   "metadata": {},
   "outputs": [],
   "source": [
    "data_raw = data_raw.drop('Idx', axis=1)"
   ]
  },
  {
   "cell_type": "code",
   "execution_count": 7,
   "id": "2a074a64",
   "metadata": {},
   "outputs": [
    {
     "data": {
      "text/plain": [
       "Index(['Education', 'JoiningYear', 'City', 'PaymentTier', 'Age', 'Gender',\n",
       "       'EverBenched', 'ExperienceInCurrentDomain', 'LeaveOrNot'],\n",
       "      dtype='object')"
      ]
     },
     "execution_count": 7,
     "metadata": {},
     "output_type": "execute_result"
    }
   ],
   "source": [
    "data_raw.columns"
   ]
  },
  {
   "cell_type": "code",
   "execution_count": 8,
   "id": "0268053c",
   "metadata": {},
   "outputs": [
    {
     "data": {
      "text/plain": [
       "Education                     object\n",
       "JoiningYear                  float64\n",
       "City                          object\n",
       "PaymentTier                  float64\n",
       "Age                          float64\n",
       "Gender                        object\n",
       "EverBenched                   object\n",
       "ExperienceInCurrentDomain    float64\n",
       "LeaveOrNot                     int64\n",
       "dtype: object"
      ]
     },
     "execution_count": 8,
     "metadata": {},
     "output_type": "execute_result"
    }
   ],
   "source": [
    "data_raw.dtypes"
   ]
  },
  {
   "cell_type": "markdown",
   "id": "6f5dd026",
   "metadata": {},
   "source": [
    "Приведем объектные типы к категориальным"
   ]
  },
  {
   "cell_type": "code",
   "execution_count": 9,
   "id": "1442f4ec",
   "metadata": {},
   "outputs": [],
   "source": [
    "data_raw['Education'] = data_raw['Education'].astype('category')\n",
    "data_raw['City'] = data_raw['City'].astype('category')\n",
    "data_raw['Gender'] = data_raw['Gender'].astype('category')\n",
    "data_raw['EverBenched'] = data_raw['EverBenched'].astype('category')"
   ]
  },
  {
   "cell_type": "code",
   "execution_count": 10,
   "id": "2c732a1d",
   "metadata": {},
   "outputs": [
    {
     "data": {
      "text/plain": [
       "Education                    category\n",
       "JoiningYear                   float64\n",
       "City                         category\n",
       "PaymentTier                   float64\n",
       "Age                           float64\n",
       "Gender                       category\n",
       "EverBenched                  category\n",
       "ExperienceInCurrentDomain     float64\n",
       "LeaveOrNot                      int64\n",
       "dtype: object"
      ]
     },
     "execution_count": 10,
     "metadata": {},
     "output_type": "execute_result"
    }
   ],
   "source": [
    "data_raw.dtypes"
   ]
  },
  {
   "cell_type": "markdown",
   "id": "1db07fc2",
   "metadata": {},
   "source": [
    "# Визуализировать данные и вычислить основные характеристики (среднее, разброс, корреляционную матрицу и т.д.). Интерпретировать. "
   ]
  },
  {
   "cell_type": "markdown",
   "id": "0a6b40ec",
   "metadata": {},
   "source": [
    "Визуализируем соотношение целевой переменной"
   ]
  },
  {
   "cell_type": "code",
   "execution_count": 11,
   "id": "e8b72b94",
   "metadata": {},
   "outputs": [
    {
     "data": {
      "image/png": "[encoded data removed]",
      "text/plain": [
       "<Figure size 640x480 with 1 Axes>"
      ]
     },
     "metadata": {},
     "output_type": "display_data"
    }
   ],
   "source": [
    "plt.pie(data_raw.LeaveOrNot.value_counts(), labels = [\"Leave\", \"Not leave\"])\n",
    "pass"
   ]
  },
  {
   "cell_type": "markdown",
   "id": "d08d5f19",
   "metadata": {},
   "source": [
    "Получим характеристики количественных и категориальных признаков"
   ]
  },
  {
   "cell_type": "code",
   "execution_count": 12,
   "id": "15c7995c",
   "metadata": {
    "scrolled": true
   },
   "outputs": [
    {
     "data": {
      "text/html": [
       "<div>\n",
       "<style scoped>\n",
       "    .dataframe tbody tr th:only-of-type {\n",
       "        vertical-align: middle;\n",
       "    }\n",
       "\n",
       "    .dataframe tbody tr th {\n",
       "        vertical-align: top;\n",
       "    }\n",
       "\n",
       "    .dataframe thead th {\n",
       "        text-align: right;\n",
       "    }\n",
       "</style>\n",
       "<table border=\"1\" class=\"dataframe\">\n",
       "  <thead>\n",
       "    <tr style=\"text-align: right;\">\n",
       "      <th></th>\n",
       "      <th>JoiningYear</th>\n",
       "      <th>PaymentTier</th>\n",
       "      <th>Age</th>\n",
       "      <th>ExperienceInCurrentDomain</th>\n",
       "      <th>LeaveOrNot</th>\n",
       "    </tr>\n",
       "  </thead>\n",
       "  <tbody>\n",
       "    <tr>\n",
       "      <th>count</th>\n",
       "      <td>4160.000000</td>\n",
       "      <td>4128.000000</td>\n",
       "      <td>4127.000000</td>\n",
       "      <td>4180.000000</td>\n",
       "      <td>4653.000000</td>\n",
       "    </tr>\n",
       "    <tr>\n",
       "      <th>mean</th>\n",
       "      <td>2015.056971</td>\n",
       "      <td>2.693072</td>\n",
       "      <td>29.351587</td>\n",
       "      <td>2.894498</td>\n",
       "      <td>0.343864</td>\n",
       "    </tr>\n",
       "    <tr>\n",
       "      <th>std</th>\n",
       "      <td>1.864069</td>\n",
       "      <td>0.564288</td>\n",
       "      <td>4.796762</td>\n",
       "      <td>1.567075</td>\n",
       "      <td>0.475047</td>\n",
       "    </tr>\n",
       "    <tr>\n",
       "      <th>min</th>\n",
       "      <td>2012.000000</td>\n",
       "      <td>1.000000</td>\n",
       "      <td>22.000000</td>\n",
       "      <td>0.000000</td>\n",
       "      <td>0.000000</td>\n",
       "    </tr>\n",
       "    <tr>\n",
       "      <th>25%</th>\n",
       "      <td>2013.000000</td>\n",
       "      <td>2.000000</td>\n",
       "      <td>26.000000</td>\n",
       "      <td>2.000000</td>\n",
       "      <td>0.000000</td>\n",
       "    </tr>\n",
       "    <tr>\n",
       "      <th>50%</th>\n",
       "      <td>2015.000000</td>\n",
       "      <td>3.000000</td>\n",
       "      <td>28.000000</td>\n",
       "      <td>3.000000</td>\n",
       "      <td>0.000000</td>\n",
       "    </tr>\n",
       "    <tr>\n",
       "      <th>75%</th>\n",
       "      <td>2017.000000</td>\n",
       "      <td>3.000000</td>\n",
       "      <td>32.000000</td>\n",
       "      <td>4.000000</td>\n",
       "      <td>1.000000</td>\n",
       "    </tr>\n",
       "    <tr>\n",
       "      <th>max</th>\n",
       "      <td>2018.000000</td>\n",
       "      <td>3.000000</td>\n",
       "      <td>41.000000</td>\n",
       "      <td>7.000000</td>\n",
       "      <td>1.000000</td>\n",
       "    </tr>\n",
       "  </tbody>\n",
       "</table>\n",
       "</div>"
      ],
      "text/plain": [
       "       JoiningYear  PaymentTier          Age  ExperienceInCurrentDomain  \\\n",
       "count  4160.000000  4128.000000  4127.000000                4180.000000   \n",
       "mean   2015.056971     2.693072    29.351587                   2.894498   \n",
       "std       1.864069     0.564288     4.796762                   1.567075   \n",
       "min    2012.000000     1.000000    22.000000                   0.000000   \n",
       "25%    2013.000000     2.000000    26.000000                   2.000000   \n",
       "50%    2015.000000     3.000000    28.000000                   3.000000   \n",
       "75%    2017.000000     3.000000    32.000000                   4.000000   \n",
       "max    2018.000000     3.000000    41.000000                   7.000000   \n",
       "\n",
       "        LeaveOrNot  \n",
       "count  4653.000000  \n",
       "mean      0.343864  \n",
       "std       0.475047  \n",
       "min       0.000000  \n",
       "25%       0.000000  \n",
       "50%       0.000000  \n",
       "75%       1.000000  \n",
       "max       1.000000  "
      ]
     },
     "execution_count": 12,
     "metadata": {},
     "output_type": "execute_result"
    }
   ],
   "source": [
    "data_raw.describe()"
   ]
  },
  {
   "cell_type": "code",
   "execution_count": 13,
   "id": "57d8d1be",
   "metadata": {},
   "outputs": [
    {
     "data": {
      "text/html": [
       "<div>\n",
       "<style scoped>\n",
       "    .dataframe tbody tr th:only-of-type {\n",
       "        vertical-align: middle;\n",
       "    }\n",
       "\n",
       "    .dataframe tbody tr th {\n",
       "        vertical-align: top;\n",
       "    }\n",
       "\n",
       "    .dataframe thead th {\n",
       "        text-align: right;\n",
       "    }\n",
       "</style>\n",
       "<table border=\"1\" class=\"dataframe\">\n",
       "  <thead>\n",
       "    <tr style=\"text-align: right;\">\n",
       "      <th></th>\n",
       "      <th>Education</th>\n",
       "      <th>City</th>\n",
       "      <th>Gender</th>\n",
       "      <th>EverBenched</th>\n",
       "    </tr>\n",
       "  </thead>\n",
       "  <tbody>\n",
       "    <tr>\n",
       "      <th>count</th>\n",
       "      <td>4158</td>\n",
       "      <td>4100</td>\n",
       "      <td>4110</td>\n",
       "      <td>4074</td>\n",
       "    </tr>\n",
       "    <tr>\n",
       "      <th>unique</th>\n",
       "      <td>3</td>\n",
       "      <td>3</td>\n",
       "      <td>2</td>\n",
       "      <td>2</td>\n",
       "    </tr>\n",
       "    <tr>\n",
       "      <th>top</th>\n",
       "      <td>Bachelors</td>\n",
       "      <td>Bangalore</td>\n",
       "      <td>Male</td>\n",
       "      <td>No</td>\n",
       "    </tr>\n",
       "    <tr>\n",
       "      <th>freq</th>\n",
       "      <td>3211</td>\n",
       "      <td>1988</td>\n",
       "      <td>2472</td>\n",
       "      <td>3661</td>\n",
       "    </tr>\n",
       "  </tbody>\n",
       "</table>\n",
       "</div>"
      ],
      "text/plain": [
       "        Education       City Gender EverBenched\n",
       "count        4158       4100   4110        4074\n",
       "unique          3          3      2           2\n",
       "top     Bachelors  Bangalore   Male          No\n",
       "freq         3211       1988   2472        3661"
      ]
     },
     "execution_count": 13,
     "metadata": {},
     "output_type": "execute_result"
    }
   ],
   "source": [
    "data_raw.describe(include = ['category'])"
   ]
  },
  {
   "cell_type": "markdown",
   "id": "e7d7c04c",
   "metadata": {},
   "source": [
    "Матрица корреляции и её визуализация"
   ]
  },
  {
   "cell_type": "code",
   "execution_count": 14,
   "id": "6a03dab9",
   "metadata": {
    "scrolled": true
   },
   "outputs": [
    {
     "data": {
      "text/html": [
       "<div>\n",
       "<style scoped>\n",
       "    .dataframe tbody tr th:only-of-type {\n",
       "        vertical-align: middle;\n",
       "    }\n",
       "\n",
       "    .dataframe tbody tr th {\n",
       "        vertical-align: top;\n",
       "    }\n",
       "\n",
       "    .dataframe thead th {\n",
       "        text-align: right;\n",
       "    }\n",
       "</style>\n",
       "<table border=\"1\" class=\"dataframe\">\n",
       "  <thead>\n",
       "    <tr style=\"text-align: right;\">\n",
       "      <th></th>\n",
       "      <th>JoiningYear</th>\n",
       "      <th>PaymentTier</th>\n",
       "      <th>Age</th>\n",
       "      <th>ExperienceInCurrentDomain</th>\n",
       "      <th>LeaveOrNot</th>\n",
       "    </tr>\n",
       "  </thead>\n",
       "  <tbody>\n",
       "    <tr>\n",
       "      <th>JoiningYear</th>\n",
       "      <td>1.000000</td>\n",
       "      <td>-0.100896</td>\n",
       "      <td>0.011305</td>\n",
       "      <td>-0.038477</td>\n",
       "      <td>0.184744</td>\n",
       "    </tr>\n",
       "    <tr>\n",
       "      <th>PaymentTier</th>\n",
       "      <td>-0.100896</td>\n",
       "      <td>1.000000</td>\n",
       "      <td>0.016448</td>\n",
       "      <td>0.010714</td>\n",
       "      <td>-0.196816</td>\n",
       "    </tr>\n",
       "    <tr>\n",
       "      <th>Age</th>\n",
       "      <td>0.011305</td>\n",
       "      <td>0.016448</td>\n",
       "      <td>1.000000</td>\n",
       "      <td>-0.140187</td>\n",
       "      <td>-0.048199</td>\n",
       "    </tr>\n",
       "    <tr>\n",
       "      <th>ExperienceInCurrentDomain</th>\n",
       "      <td>-0.038477</td>\n",
       "      <td>0.010714</td>\n",
       "      <td>-0.140187</td>\n",
       "      <td>1.000000</td>\n",
       "      <td>-0.036289</td>\n",
       "    </tr>\n",
       "    <tr>\n",
       "      <th>LeaveOrNot</th>\n",
       "      <td>0.184744</td>\n",
       "      <td>-0.196816</td>\n",
       "      <td>-0.048199</td>\n",
       "      <td>-0.036289</td>\n",
       "      <td>1.000000</td>\n",
       "    </tr>\n",
       "  </tbody>\n",
       "</table>\n",
       "</div>"
      ],
      "text/plain": [
       "                           JoiningYear  PaymentTier       Age  \\\n",
       "JoiningYear                   1.000000    -0.100896  0.011305   \n",
       "PaymentTier                  -0.100896     1.000000  0.016448   \n",
       "Age                           0.011305     0.016448  1.000000   \n",
       "ExperienceInCurrentDomain    -0.038477     0.010714 -0.140187   \n",
       "LeaveOrNot                    0.184744    -0.196816 -0.048199   \n",
       "\n",
       "                           ExperienceInCurrentDomain  LeaveOrNot  \n",
       "JoiningYear                                -0.038477    0.184744  \n",
       "PaymentTier                                 0.010714   -0.196816  \n",
       "Age                                        -0.140187   -0.048199  \n",
       "ExperienceInCurrentDomain                   1.000000   -0.036289  \n",
       "LeaveOrNot                                 -0.036289    1.000000  "
      ]
     },
     "execution_count": 14,
     "metadata": {},
     "output_type": "execute_result"
    }
   ],
   "source": [
    "corr = data_raw.corr(numeric_only=True)\n",
    "corr"
   ]
  },
  {
   "cell_type": "code",
   "execution_count": 15,
   "id": "40e18cd9",
   "metadata": {},
   "outputs": [
    {
     "data": {
      "image/png": "[encoded data removed]",
      "text/plain": [
       "<Figure size 640x480 with 2 Axes>"
      ]
     },
     "metadata": {},
     "output_type": "display_data"
    }
   ],
   "source": [
    "sns.heatmap(corr, annot = True)\n",
    "pass"
   ]
  },
  {
   "cell_type": "markdown",
   "id": "6e2f7fec",
   "metadata": {},
   "source": [
    "Видно, что признаки практически не коррелируют между собой. Это ожидаемо, учитывая суть самих признаков."
   ]
  },
  {
   "cell_type": "markdown",
   "id": "93cf1b1a",
   "metadata": {},
   "source": [
    "# Обработка пропущенных значений"
   ]
  },
  {
   "cell_type": "code",
   "execution_count": 16,
   "id": "e89a4422",
   "metadata": {},
   "outputs": [
    {
     "data": {
      "text/plain": [
       "Education                    495\n",
       "JoiningYear                  493\n",
       "City                         553\n",
       "PaymentTier                  525\n",
       "Age                          526\n",
       "Gender                       543\n",
       "EverBenched                  579\n",
       "ExperienceInCurrentDomain    473\n",
       "LeaveOrNot                     0\n",
       "dtype: int64"
      ]
     },
     "execution_count": 16,
     "metadata": {},
     "output_type": "execute_result"
    }
   ],
   "source": [
    "data_raw.isna().sum() # Количество NaN в каждом признаке"
   ]
  },
  {
   "cell_type": "code",
   "execution_count": 17,
   "id": "609363e5",
   "metadata": {},
   "outputs": [
    {
     "data": {
      "text/plain": [
       "Education                    4158\n",
       "JoiningYear                  4160\n",
       "City                         4100\n",
       "PaymentTier                  4128\n",
       "Age                          4127\n",
       "Gender                       4110\n",
       "EverBenched                  4074\n",
       "ExperienceInCurrentDomain    4180\n",
       "LeaveOrNot                   4653\n",
       "dtype: int64"
      ]
     },
     "execution_count": 17,
     "metadata": {},
     "output_type": "execute_result"
    }
   ],
   "source": [
    "data_raw.count() # Количество не-NaN в каждом признаке"
   ]
  },
  {
   "cell_type": "markdown",
   "id": "c39c22a0",
   "metadata": {},
   "source": [
    "Заполним пропущенные значения для количественных признаков медианным значением, а для категориальных - самым часто встречающимся. Учитывая относительно небольшое количество выбросов (10%) это не должно существенно повлиять на результат."
   ]
  },
  {
   "cell_type": "code",
   "execution_count": 18,
   "id": "8b96fcfa",
   "metadata": {
    "scrolled": true
   },
   "outputs": [
    {
     "data": {
      "text/plain": [
       "Education                    category\n",
       "JoiningYear                   float64\n",
       "City                         category\n",
       "PaymentTier                   float64\n",
       "Age                           float64\n",
       "Gender                       category\n",
       "EverBenched                  category\n",
       "ExperienceInCurrentDomain     float64\n",
       "LeaveOrNot                      int64\n",
       "dtype: object"
      ]
     },
     "execution_count": 18,
     "metadata": {},
     "output_type": "execute_result"
    }
   ],
   "source": [
    "data_raw.dtypes"
   ]
  },
  {
   "cell_type": "code",
   "execution_count": 19,
   "id": "29c0bdbc",
   "metadata": {},
   "outputs": [
    {
     "data": {
      "text/html": [
       "<div>\n",
       "<style scoped>\n",
       "    .dataframe tbody tr th:only-of-type {\n",
       "        vertical-align: middle;\n",
       "    }\n",
       "\n",
       "    .dataframe tbody tr th {\n",
       "        vertical-align: top;\n",
       "    }\n",
       "\n",
       "    .dataframe thead th {\n",
       "        text-align: right;\n",
       "    }\n",
       "</style>\n",
       "<table border=\"1\" class=\"dataframe\">\n",
       "  <thead>\n",
       "    <tr style=\"text-align: right;\">\n",
       "      <th></th>\n",
       "      <th>Education</th>\n",
       "      <th>JoiningYear</th>\n",
       "      <th>City</th>\n",
       "      <th>PaymentTier</th>\n",
       "      <th>Age</th>\n",
       "      <th>Gender</th>\n",
       "      <th>EverBenched</th>\n",
       "      <th>ExperienceInCurrentDomain</th>\n",
       "      <th>LeaveOrNot</th>\n",
       "    </tr>\n",
       "  </thead>\n",
       "  <tbody>\n",
       "    <tr>\n",
       "      <th>0</th>\n",
       "      <td>Bachelors</td>\n",
       "      <td>2017.0</td>\n",
       "      <td>Bangalore</td>\n",
       "      <td>3.0</td>\n",
       "      <td>34.0</td>\n",
       "      <td>Male</td>\n",
       "      <td>No</td>\n",
       "      <td>0.0</td>\n",
       "      <td>0</td>\n",
       "    </tr>\n",
       "    <tr>\n",
       "      <th>1</th>\n",
       "      <td>Bachelors</td>\n",
       "      <td>2013.0</td>\n",
       "      <td>Pune</td>\n",
       "      <td>1.0</td>\n",
       "      <td>28.0</td>\n",
       "      <td>Female</td>\n",
       "      <td>No</td>\n",
       "      <td>NaN</td>\n",
       "      <td>1</td>\n",
       "    </tr>\n",
       "    <tr>\n",
       "      <th>2</th>\n",
       "      <td>Bachelors</td>\n",
       "      <td>NaN</td>\n",
       "      <td>New Delhi</td>\n",
       "      <td>3.0</td>\n",
       "      <td>38.0</td>\n",
       "      <td>Female</td>\n",
       "      <td>No</td>\n",
       "      <td>2.0</td>\n",
       "      <td>0</td>\n",
       "    </tr>\n",
       "    <tr>\n",
       "      <th>3</th>\n",
       "      <td>Masters</td>\n",
       "      <td>2016.0</td>\n",
       "      <td>Bangalore</td>\n",
       "      <td>3.0</td>\n",
       "      <td>27.0</td>\n",
       "      <td>Male</td>\n",
       "      <td>No</td>\n",
       "      <td>NaN</td>\n",
       "      <td>1</td>\n",
       "    </tr>\n",
       "    <tr>\n",
       "      <th>4</th>\n",
       "      <td>Masters</td>\n",
       "      <td>2017.0</td>\n",
       "      <td>Pune</td>\n",
       "      <td>3.0</td>\n",
       "      <td>24.0</td>\n",
       "      <td>Male</td>\n",
       "      <td>NaN</td>\n",
       "      <td>2.0</td>\n",
       "      <td>1</td>\n",
       "    </tr>\n",
       "    <tr>\n",
       "      <th>5</th>\n",
       "      <td>Bachelors</td>\n",
       "      <td>2016.0</td>\n",
       "      <td>Bangalore</td>\n",
       "      <td>NaN</td>\n",
       "      <td>22.0</td>\n",
       "      <td>Male</td>\n",
       "      <td>No</td>\n",
       "      <td>0.0</td>\n",
       "      <td>0</td>\n",
       "    </tr>\n",
       "    <tr>\n",
       "      <th>6</th>\n",
       "      <td>Bachelors</td>\n",
       "      <td>2015.0</td>\n",
       "      <td>New Delhi</td>\n",
       "      <td>3.0</td>\n",
       "      <td>NaN</td>\n",
       "      <td>Male</td>\n",
       "      <td>No</td>\n",
       "      <td>0.0</td>\n",
       "      <td>0</td>\n",
       "    </tr>\n",
       "    <tr>\n",
       "      <th>7</th>\n",
       "      <td>Bachelors</td>\n",
       "      <td>2016.0</td>\n",
       "      <td>Bangalore</td>\n",
       "      <td>3.0</td>\n",
       "      <td>34.0</td>\n",
       "      <td>Female</td>\n",
       "      <td>NaN</td>\n",
       "      <td>2.0</td>\n",
       "      <td>1</td>\n",
       "    </tr>\n",
       "    <tr>\n",
       "      <th>8</th>\n",
       "      <td>NaN</td>\n",
       "      <td>2016.0</td>\n",
       "      <td>Pune</td>\n",
       "      <td>3.0</td>\n",
       "      <td>23.0</td>\n",
       "      <td>Male</td>\n",
       "      <td>No</td>\n",
       "      <td>1.0</td>\n",
       "      <td>0</td>\n",
       "    </tr>\n",
       "    <tr>\n",
       "      <th>9</th>\n",
       "      <td>NaN</td>\n",
       "      <td>2017.0</td>\n",
       "      <td>New Delhi</td>\n",
       "      <td>2.0</td>\n",
       "      <td>37.0</td>\n",
       "      <td>Male</td>\n",
       "      <td>No</td>\n",
       "      <td>2.0</td>\n",
       "      <td>0</td>\n",
       "    </tr>\n",
       "  </tbody>\n",
       "</table>\n",
       "</div>"
      ],
      "text/plain": [
       "   Education  JoiningYear       City  PaymentTier   Age  Gender EverBenched  \\\n",
       "0  Bachelors       2017.0  Bangalore          3.0  34.0    Male          No   \n",
       "1  Bachelors       2013.0       Pune          1.0  28.0  Female          No   \n",
       "2  Bachelors          NaN  New Delhi          3.0  38.0  Female          No   \n",
       "3    Masters       2016.0  Bangalore          3.0  27.0    Male          No   \n",
       "4    Masters       2017.0       Pune          3.0  24.0    Male         NaN   \n",
       "5  Bachelors       2016.0  Bangalore          NaN  22.0    Male          No   \n",
       "6  Bachelors       2015.0  New Delhi          3.0   NaN    Male          No   \n",
       "7  Bachelors       2016.0  Bangalore          3.0  34.0  Female         NaN   \n",
       "8        NaN       2016.0       Pune          3.0  23.0    Male          No   \n",
       "9        NaN       2017.0  New Delhi          2.0  37.0    Male          No   \n",
       "\n",
       "   ExperienceInCurrentDomain  LeaveOrNot  \n",
       "0                        0.0           0  \n",
       "1                        NaN           1  \n",
       "2                        2.0           0  \n",
       "3                        NaN           1  \n",
       "4                        2.0           1  \n",
       "5                        0.0           0  \n",
       "6                        0.0           0  \n",
       "7                        2.0           1  \n",
       "8                        1.0           0  \n",
       "9                        2.0           0  "
      ]
     },
     "execution_count": 19,
     "metadata": {},
     "output_type": "execute_result"
    }
   ],
   "source": [
    "data_raw.head(10)"
   ]
  },
  {
   "cell_type": "code",
   "execution_count": 20,
   "id": "dfd6c302",
   "metadata": {},
   "outputs": [],
   "source": [
    "stat = data_raw.describe(include = ['category'])\n",
    "\n",
    "data_raw['Education'].fillna(stat['Education'].top, inplace = True)\n",
    "data_raw['JoiningYear'].fillna(data_raw['JoiningYear'].median(axis = 0), inplace = True)\n",
    "data_raw['City'].fillna(stat['City'].top, inplace = True)\n",
    "data_raw['PaymentTier'].fillna(data_raw['PaymentTier'].median(axis = 0), inplace = True)\n",
    "data_raw['Age'].fillna(data_raw['Age'].median(axis = 0), inplace = True)\n",
    "data_raw['Gender'].fillna(stat['Gender'].top, inplace = True)\n",
    "data_raw['EverBenched'].fillna(stat['EverBenched'].top, inplace = True)\n",
    "data_raw['ExperienceInCurrentDomain'].fillna(data_raw['ExperienceInCurrentDomain'].median(axis = 0), inplace = True)"
   ]
  },
  {
   "cell_type": "code",
   "execution_count": 21,
   "id": "fe0b39fb",
   "metadata": {},
   "outputs": [
    {
     "data": {
      "text/plain": [
       "Education                    0\n",
       "JoiningYear                  0\n",
       "City                         0\n",
       "PaymentTier                  0\n",
       "Age                          0\n",
       "Gender                       0\n",
       "EverBenched                  0\n",
       "ExperienceInCurrentDomain    0\n",
       "LeaveOrNot                   0\n",
       "dtype: int64"
      ]
     },
     "execution_count": 21,
     "metadata": {},
     "output_type": "execute_result"
    }
   ],
   "source": [
    "data_raw.isna().sum()"
   ]
  },
  {
   "cell_type": "code",
   "execution_count": 22,
   "id": "06cc972d",
   "metadata": {},
   "outputs": [
    {
     "data": {
      "text/plain": [
       "Education                    4653\n",
       "JoiningYear                  4653\n",
       "City                         4653\n",
       "PaymentTier                  4653\n",
       "Age                          4653\n",
       "Gender                       4653\n",
       "EverBenched                  4653\n",
       "ExperienceInCurrentDomain    4653\n",
       "LeaveOrNot                   4653\n",
       "dtype: int64"
      ]
     },
     "execution_count": 22,
     "metadata": {},
     "output_type": "execute_result"
    }
   ],
   "source": [
    "data_raw.count()"
   ]
  },
  {
   "cell_type": "code",
   "execution_count": 23,
   "id": "53f65af2",
   "metadata": {},
   "outputs": [
    {
     "data": {
      "text/html": [
       "<div>\n",
       "<style scoped>\n",
       "    .dataframe tbody tr th:only-of-type {\n",
       "        vertical-align: middle;\n",
       "    }\n",
       "\n",
       "    .dataframe tbody tr th {\n",
       "        vertical-align: top;\n",
       "    }\n",
       "\n",
       "    .dataframe thead th {\n",
       "        text-align: right;\n",
       "    }\n",
       "</style>\n",
       "<table border=\"1\" class=\"dataframe\">\n",
       "  <thead>\n",
       "    <tr style=\"text-align: right;\">\n",
       "      <th></th>\n",
       "      <th>Education</th>\n",
       "      <th>JoiningYear</th>\n",
       "      <th>City</th>\n",
       "      <th>PaymentTier</th>\n",
       "      <th>Age</th>\n",
       "      <th>Gender</th>\n",
       "      <th>EverBenched</th>\n",
       "      <th>ExperienceInCurrentDomain</th>\n",
       "      <th>LeaveOrNot</th>\n",
       "    </tr>\n",
       "  </thead>\n",
       "  <tbody>\n",
       "    <tr>\n",
       "      <th>0</th>\n",
       "      <td>Bachelors</td>\n",
       "      <td>2017.0</td>\n",
       "      <td>Bangalore</td>\n",
       "      <td>3.0</td>\n",
       "      <td>34.0</td>\n",
       "      <td>Male</td>\n",
       "      <td>No</td>\n",
       "      <td>0.0</td>\n",
       "      <td>0</td>\n",
       "    </tr>\n",
       "    <tr>\n",
       "      <th>1</th>\n",
       "      <td>Bachelors</td>\n",
       "      <td>2013.0</td>\n",
       "      <td>Pune</td>\n",
       "      <td>1.0</td>\n",
       "      <td>28.0</td>\n",
       "      <td>Female</td>\n",
       "      <td>No</td>\n",
       "      <td>3.0</td>\n",
       "      <td>1</td>\n",
       "    </tr>\n",
       "    <tr>\n",
       "      <th>2</th>\n",
       "      <td>Bachelors</td>\n",
       "      <td>2015.0</td>\n",
       "      <td>New Delhi</td>\n",
       "      <td>3.0</td>\n",
       "      <td>38.0</td>\n",
       "      <td>Female</td>\n",
       "      <td>No</td>\n",
       "      <td>2.0</td>\n",
       "      <td>0</td>\n",
       "    </tr>\n",
       "    <tr>\n",
       "      <th>3</th>\n",
       "      <td>Masters</td>\n",
       "      <td>2016.0</td>\n",
       "      <td>Bangalore</td>\n",
       "      <td>3.0</td>\n",
       "      <td>27.0</td>\n",
       "      <td>Male</td>\n",
       "      <td>No</td>\n",
       "      <td>3.0</td>\n",
       "      <td>1</td>\n",
       "    </tr>\n",
       "    <tr>\n",
       "      <th>4</th>\n",
       "      <td>Masters</td>\n",
       "      <td>2017.0</td>\n",
       "      <td>Pune</td>\n",
       "      <td>3.0</td>\n",
       "      <td>24.0</td>\n",
       "      <td>Male</td>\n",
       "      <td>No</td>\n",
       "      <td>2.0</td>\n",
       "      <td>1</td>\n",
       "    </tr>\n",
       "    <tr>\n",
       "      <th>5</th>\n",
       "      <td>Bachelors</td>\n",
       "      <td>2016.0</td>\n",
       "      <td>Bangalore</td>\n",
       "      <td>3.0</td>\n",
       "      <td>22.0</td>\n",
       "      <td>Male</td>\n",
       "      <td>No</td>\n",
       "      <td>0.0</td>\n",
       "      <td>0</td>\n",
       "    </tr>\n",
       "    <tr>\n",
       "      <th>6</th>\n",
       "      <td>Bachelors</td>\n",
       "      <td>2015.0</td>\n",
       "      <td>New Delhi</td>\n",
       "      <td>3.0</td>\n",
       "      <td>28.0</td>\n",
       "      <td>Male</td>\n",
       "      <td>No</td>\n",
       "      <td>0.0</td>\n",
       "      <td>0</td>\n",
       "    </tr>\n",
       "    <tr>\n",
       "      <th>7</th>\n",
       "      <td>Bachelors</td>\n",
       "      <td>2016.0</td>\n",
       "      <td>Bangalore</td>\n",
       "      <td>3.0</td>\n",
       "      <td>34.0</td>\n",
       "      <td>Female</td>\n",
       "      <td>No</td>\n",
       "      <td>2.0</td>\n",
       "      <td>1</td>\n",
       "    </tr>\n",
       "    <tr>\n",
       "      <th>8</th>\n",
       "      <td>Bachelors</td>\n",
       "      <td>2016.0</td>\n",
       "      <td>Pune</td>\n",
       "      <td>3.0</td>\n",
       "      <td>23.0</td>\n",
       "      <td>Male</td>\n",
       "      <td>No</td>\n",
       "      <td>1.0</td>\n",
       "      <td>0</td>\n",
       "    </tr>\n",
       "    <tr>\n",
       "      <th>9</th>\n",
       "      <td>Bachelors</td>\n",
       "      <td>2017.0</td>\n",
       "      <td>New Delhi</td>\n",
       "      <td>2.0</td>\n",
       "      <td>37.0</td>\n",
       "      <td>Male</td>\n",
       "      <td>No</td>\n",
       "      <td>2.0</td>\n",
       "      <td>0</td>\n",
       "    </tr>\n",
       "  </tbody>\n",
       "</table>\n",
       "</div>"
      ],
      "text/plain": [
       "   Education  JoiningYear       City  PaymentTier   Age  Gender EverBenched  \\\n",
       "0  Bachelors       2017.0  Bangalore          3.0  34.0    Male          No   \n",
       "1  Bachelors       2013.0       Pune          1.0  28.0  Female          No   \n",
       "2  Bachelors       2015.0  New Delhi          3.0  38.0  Female          No   \n",
       "3    Masters       2016.0  Bangalore          3.0  27.0    Male          No   \n",
       "4    Masters       2017.0       Pune          3.0  24.0    Male          No   \n",
       "5  Bachelors       2016.0  Bangalore          3.0  22.0    Male          No   \n",
       "6  Bachelors       2015.0  New Delhi          3.0  28.0    Male          No   \n",
       "7  Bachelors       2016.0  Bangalore          3.0  34.0  Female          No   \n",
       "8  Bachelors       2016.0       Pune          3.0  23.0    Male          No   \n",
       "9  Bachelors       2017.0  New Delhi          2.0  37.0    Male          No   \n",
       "\n",
       "   ExperienceInCurrentDomain  LeaveOrNot  \n",
       "0                        0.0           0  \n",
       "1                        3.0           1  \n",
       "2                        2.0           0  \n",
       "3                        3.0           1  \n",
       "4                        2.0           1  \n",
       "5                        0.0           0  \n",
       "6                        0.0           0  \n",
       "7                        2.0           1  \n",
       "8                        1.0           0  \n",
       "9                        2.0           0  "
      ]
     },
     "execution_count": 23,
     "metadata": {},
     "output_type": "execute_result"
    }
   ],
   "source": [
    "data_raw.head(10)"
   ]
  },
  {
   "cell_type": "markdown",
   "id": "f4142ab1",
   "metadata": {},
   "source": [
    "# 4. Обработать категориальные признаки"
   ]
  },
  {
   "cell_type": "markdown",
   "id": "4979ed20",
   "metadata": {},
   "source": [
    "Приведем категориальные признаки к числовым, заранее сохранив категориальные"
   ]
  },
  {
   "cell_type": "code",
   "execution_count": 24,
   "id": "61814b7f",
   "metadata": {},
   "outputs": [
    {
     "name": "stdout",
     "output_type": "stream",
     "text": [
      "category\n",
      "float64\n",
      "category\n",
      "float64\n",
      "float64\n",
      "category\n",
      "category\n",
      "float64\n",
      "int64\n"
     ]
    }
   ],
   "source": [
    "category_cols = []\n",
    "for col in data_raw.columns:\n",
    "    print(data_raw[col].dtype)\n",
    "    if data_raw[col].dtype == 'category':\n",
    "        category_cols.append(col)"
   ]
  },
  {
   "cell_type": "code",
   "execution_count": 25,
   "id": "38c3441b",
   "metadata": {},
   "outputs": [],
   "source": [
    "data_raw['Education'] = pd.factorize(data_raw['Education'])[0]\n",
    "data_raw['Gender'] = pd.factorize(data_raw['Gender'])[0]\n",
    "data_raw['EverBenched'] = pd.factorize(data_raw['EverBenched'])[0]\n",
    "data_raw['LeaveOrNot'] = pd.factorize(data_raw['LeaveOrNot'])[0]\n",
    "data_raw['City'] = pd.factorize(data_raw['City'])[0]"
   ]
  },
  {
   "cell_type": "code",
   "execution_count": 26,
   "id": "c598f00c",
   "metadata": {},
   "outputs": [
    {
     "data": {
      "text/plain": [
       "Education                      int64\n",
       "JoiningYear                  float64\n",
       "City                           int64\n",
       "PaymentTier                  float64\n",
       "Age                          float64\n",
       "Gender                         int64\n",
       "EverBenched                    int64\n",
       "ExperienceInCurrentDomain    float64\n",
       "LeaveOrNot                     int64\n",
       "dtype: object"
      ]
     },
     "execution_count": 26,
     "metadata": {},
     "output_type": "execute_result"
    }
   ],
   "source": [
    "data_raw.dtypes"
   ]
  },
  {
   "cell_type": "code",
   "execution_count": 27,
   "id": "8165b9b2",
   "metadata": {},
   "outputs": [
    {
     "data": {
      "text/html": [
       "<div>\n",
       "<style scoped>\n",
       "    .dataframe tbody tr th:only-of-type {\n",
       "        vertical-align: middle;\n",
       "    }\n",
       "\n",
       "    .dataframe tbody tr th {\n",
       "        vertical-align: top;\n",
       "    }\n",
       "\n",
       "    .dataframe thead th {\n",
       "        text-align: right;\n",
       "    }\n",
       "</style>\n",
       "<table border=\"1\" class=\"dataframe\">\n",
       "  <thead>\n",
       "    <tr style=\"text-align: right;\">\n",
       "      <th></th>\n",
       "      <th>Education</th>\n",
       "      <th>JoiningYear</th>\n",
       "      <th>City</th>\n",
       "      <th>PaymentTier</th>\n",
       "      <th>Age</th>\n",
       "      <th>Gender</th>\n",
       "      <th>EverBenched</th>\n",
       "      <th>ExperienceInCurrentDomain</th>\n",
       "      <th>LeaveOrNot</th>\n",
       "    </tr>\n",
       "  </thead>\n",
       "  <tbody>\n",
       "    <tr>\n",
       "      <th>0</th>\n",
       "      <td>0</td>\n",
       "      <td>2017.0</td>\n",
       "      <td>0</td>\n",
       "      <td>3.0</td>\n",
       "      <td>34.0</td>\n",
       "      <td>0</td>\n",
       "      <td>0</td>\n",
       "      <td>0.0</td>\n",
       "      <td>0</td>\n",
       "    </tr>\n",
       "    <tr>\n",
       "      <th>1</th>\n",
       "      <td>0</td>\n",
       "      <td>2013.0</td>\n",
       "      <td>1</td>\n",
       "      <td>1.0</td>\n",
       "      <td>28.0</td>\n",
       "      <td>1</td>\n",
       "      <td>0</td>\n",
       "      <td>3.0</td>\n",
       "      <td>1</td>\n",
       "    </tr>\n",
       "    <tr>\n",
       "      <th>2</th>\n",
       "      <td>0</td>\n",
       "      <td>2015.0</td>\n",
       "      <td>2</td>\n",
       "      <td>3.0</td>\n",
       "      <td>38.0</td>\n",
       "      <td>1</td>\n",
       "      <td>0</td>\n",
       "      <td>2.0</td>\n",
       "      <td>0</td>\n",
       "    </tr>\n",
       "    <tr>\n",
       "      <th>3</th>\n",
       "      <td>1</td>\n",
       "      <td>2016.0</td>\n",
       "      <td>0</td>\n",
       "      <td>3.0</td>\n",
       "      <td>27.0</td>\n",
       "      <td>0</td>\n",
       "      <td>0</td>\n",
       "      <td>3.0</td>\n",
       "      <td>1</td>\n",
       "    </tr>\n",
       "    <tr>\n",
       "      <th>4</th>\n",
       "      <td>1</td>\n",
       "      <td>2017.0</td>\n",
       "      <td>1</td>\n",
       "      <td>3.0</td>\n",
       "      <td>24.0</td>\n",
       "      <td>0</td>\n",
       "      <td>0</td>\n",
       "      <td>2.0</td>\n",
       "      <td>1</td>\n",
       "    </tr>\n",
       "  </tbody>\n",
       "</table>\n",
       "</div>"
      ],
      "text/plain": [
       "   Education  JoiningYear  City  PaymentTier   Age  Gender  EverBenched  \\\n",
       "0          0       2017.0     0          3.0  34.0       0            0   \n",
       "1          0       2013.0     1          1.0  28.0       1            0   \n",
       "2          0       2015.0     2          3.0  38.0       1            0   \n",
       "3          1       2016.0     0          3.0  27.0       0            0   \n",
       "4          1       2017.0     1          3.0  24.0       0            0   \n",
       "\n",
       "   ExperienceInCurrentDomain  LeaveOrNot  \n",
       "0                        0.0           0  \n",
       "1                        3.0           1  \n",
       "2                        2.0           0  \n",
       "3                        3.0           1  \n",
       "4                        2.0           1  "
      ]
     },
     "execution_count": 27,
     "metadata": {},
     "output_type": "execute_result"
    }
   ],
   "source": [
    "data_raw.head()"
   ]
  },
  {
   "cell_type": "code",
   "execution_count": 28,
   "id": "fef2cfd2",
   "metadata": {},
   "outputs": [
    {
     "data": {
      "text/html": [
       "<div>\n",
       "<style scoped>\n",
       "    .dataframe tbody tr th:only-of-type {\n",
       "        vertical-align: middle;\n",
       "    }\n",
       "\n",
       "    .dataframe tbody tr th {\n",
       "        vertical-align: top;\n",
       "    }\n",
       "\n",
       "    .dataframe thead th {\n",
       "        text-align: right;\n",
       "    }\n",
       "</style>\n",
       "<table border=\"1\" class=\"dataframe\">\n",
       "  <thead>\n",
       "    <tr style=\"text-align: right;\">\n",
       "      <th></th>\n",
       "      <th>Education</th>\n",
       "      <th>JoiningYear</th>\n",
       "      <th>City</th>\n",
       "      <th>PaymentTier</th>\n",
       "      <th>Age</th>\n",
       "      <th>Gender</th>\n",
       "      <th>EverBenched</th>\n",
       "      <th>ExperienceInCurrentDomain</th>\n",
       "      <th>LeaveOrNot</th>\n",
       "    </tr>\n",
       "  </thead>\n",
       "  <tbody>\n",
       "    <tr>\n",
       "      <th>count</th>\n",
       "      <td>4653.000000</td>\n",
       "      <td>4653.000000</td>\n",
       "      <td>4653.000000</td>\n",
       "      <td>4653.000000</td>\n",
       "      <td>4653.000000</td>\n",
       "      <td>4653.000000</td>\n",
       "      <td>4653.000000</td>\n",
       "      <td>4653.000000</td>\n",
       "      <td>4653.000000</td>\n",
       "    </tr>\n",
       "    <tr>\n",
       "      <th>mean</th>\n",
       "      <td>0.237051</td>\n",
       "      <td>2015.050935</td>\n",
       "      <td>0.671395</td>\n",
       "      <td>2.727703</td>\n",
       "      <td>29.198796</td>\n",
       "      <td>0.352031</td>\n",
       "      <td>0.088760</td>\n",
       "      <td>2.905222</td>\n",
       "      <td>0.343864</td>\n",
       "    </tr>\n",
       "    <tr>\n",
       "      <th>std</th>\n",
       "      <td>0.497961</td>\n",
       "      <td>1.762617</td>\n",
       "      <td>0.809786</td>\n",
       "      <td>0.540294</td>\n",
       "      <td>4.537678</td>\n",
       "      <td>0.477655</td>\n",
       "      <td>0.284427</td>\n",
       "      <td>1.485615</td>\n",
       "      <td>0.475047</td>\n",
       "    </tr>\n",
       "    <tr>\n",
       "      <th>min</th>\n",
       "      <td>0.000000</td>\n",
       "      <td>2012.000000</td>\n",
       "      <td>0.000000</td>\n",
       "      <td>1.000000</td>\n",
       "      <td>22.000000</td>\n",
       "      <td>0.000000</td>\n",
       "      <td>0.000000</td>\n",
       "      <td>0.000000</td>\n",
       "      <td>0.000000</td>\n",
       "    </tr>\n",
       "    <tr>\n",
       "      <th>25%</th>\n",
       "      <td>0.000000</td>\n",
       "      <td>2014.000000</td>\n",
       "      <td>0.000000</td>\n",
       "      <td>3.000000</td>\n",
       "      <td>26.000000</td>\n",
       "      <td>0.000000</td>\n",
       "      <td>0.000000</td>\n",
       "      <td>2.000000</td>\n",
       "      <td>0.000000</td>\n",
       "    </tr>\n",
       "    <tr>\n",
       "      <th>50%</th>\n",
       "      <td>0.000000</td>\n",
       "      <td>2015.000000</td>\n",
       "      <td>0.000000</td>\n",
       "      <td>3.000000</td>\n",
       "      <td>28.000000</td>\n",
       "      <td>0.000000</td>\n",
       "      <td>0.000000</td>\n",
       "      <td>3.000000</td>\n",
       "      <td>0.000000</td>\n",
       "    </tr>\n",
       "    <tr>\n",
       "      <th>75%</th>\n",
       "      <td>0.000000</td>\n",
       "      <td>2017.000000</td>\n",
       "      <td>1.000000</td>\n",
       "      <td>3.000000</td>\n",
       "      <td>31.000000</td>\n",
       "      <td>1.000000</td>\n",
       "      <td>0.000000</td>\n",
       "      <td>4.000000</td>\n",
       "      <td>1.000000</td>\n",
       "    </tr>\n",
       "    <tr>\n",
       "      <th>max</th>\n",
       "      <td>2.000000</td>\n",
       "      <td>2018.000000</td>\n",
       "      <td>2.000000</td>\n",
       "      <td>3.000000</td>\n",
       "      <td>41.000000</td>\n",
       "      <td>1.000000</td>\n",
       "      <td>1.000000</td>\n",
       "      <td>7.000000</td>\n",
       "      <td>1.000000</td>\n",
       "    </tr>\n",
       "  </tbody>\n",
       "</table>\n",
       "</div>"
      ],
      "text/plain": [
       "         Education  JoiningYear         City  PaymentTier          Age  \\\n",
       "count  4653.000000  4653.000000  4653.000000  4653.000000  4653.000000   \n",
       "mean      0.237051  2015.050935     0.671395     2.727703    29.198796   \n",
       "std       0.497961     1.762617     0.809786     0.540294     4.537678   \n",
       "min       0.000000  2012.000000     0.000000     1.000000    22.000000   \n",
       "25%       0.000000  2014.000000     0.000000     3.000000    26.000000   \n",
       "50%       0.000000  2015.000000     0.000000     3.000000    28.000000   \n",
       "75%       0.000000  2017.000000     1.000000     3.000000    31.000000   \n",
       "max       2.000000  2018.000000     2.000000     3.000000    41.000000   \n",
       "\n",
       "            Gender  EverBenched  ExperienceInCurrentDomain   LeaveOrNot  \n",
       "count  4653.000000  4653.000000                4653.000000  4653.000000  \n",
       "mean      0.352031     0.088760                   2.905222     0.343864  \n",
       "std       0.477655     0.284427                   1.485615     0.475047  \n",
       "min       0.000000     0.000000                   0.000000     0.000000  \n",
       "25%       0.000000     0.000000                   2.000000     0.000000  \n",
       "50%       0.000000     0.000000                   3.000000     0.000000  \n",
       "75%       1.000000     0.000000                   4.000000     1.000000  \n",
       "max       1.000000     1.000000                   7.000000     1.000000  "
      ]
     },
     "execution_count": 28,
     "metadata": {},
     "output_type": "execute_result"
    }
   ],
   "source": [
    "data_raw.describe()"
   ]
  },
  {
   "cell_type": "code",
   "execution_count": 29,
   "id": "45c59ec5",
   "metadata": {},
   "outputs": [
    {
     "data": {
      "text/html": [
       "<div>\n",
       "<style scoped>\n",
       "    .dataframe tbody tr th:only-of-type {\n",
       "        vertical-align: middle;\n",
       "    }\n",
       "\n",
       "    .dataframe tbody tr th {\n",
       "        vertical-align: top;\n",
       "    }\n",
       "\n",
       "    .dataframe thead th {\n",
       "        text-align: right;\n",
       "    }\n",
       "</style>\n",
       "<table border=\"1\" class=\"dataframe\">\n",
       "  <thead>\n",
       "    <tr style=\"text-align: right;\">\n",
       "      <th></th>\n",
       "      <th>Education</th>\n",
       "      <th>JoiningYear</th>\n",
       "      <th>City</th>\n",
       "      <th>PaymentTier</th>\n",
       "      <th>Age</th>\n",
       "      <th>Gender</th>\n",
       "      <th>EverBenched</th>\n",
       "      <th>ExperienceInCurrentDomain</th>\n",
       "      <th>LeaveOrNot</th>\n",
       "    </tr>\n",
       "  </thead>\n",
       "  <tbody>\n",
       "    <tr>\n",
       "      <th>Education</th>\n",
       "      <td>1.000000</td>\n",
       "      <td>0.138575</td>\n",
       "      <td>0.308896</td>\n",
       "      <td>-0.110783</td>\n",
       "      <td>-0.011727</td>\n",
       "      <td>-0.009300</td>\n",
       "      <td>-0.043866</td>\n",
       "      <td>-0.000715</td>\n",
       "      <td>0.085163</td>\n",
       "    </tr>\n",
       "    <tr>\n",
       "      <th>JoiningYear</th>\n",
       "      <td>0.138575</td>\n",
       "      <td>1.000000</td>\n",
       "      <td>0.129801</td>\n",
       "      <td>-0.084976</td>\n",
       "      <td>0.007791</td>\n",
       "      <td>0.011890</td>\n",
       "      <td>0.030428</td>\n",
       "      <td>-0.034522</td>\n",
       "      <td>0.174958</td>\n",
       "    </tr>\n",
       "    <tr>\n",
       "      <th>City</th>\n",
       "      <td>0.308896</td>\n",
       "      <td>0.129801</td>\n",
       "      <td>1.000000</td>\n",
       "      <td>-0.198660</td>\n",
       "      <td>-0.046861</td>\n",
       "      <td>0.175202</td>\n",
       "      <td>-0.013333</td>\n",
       "      <td>-0.013922</td>\n",
       "      <td>0.079220</td>\n",
       "    </tr>\n",
       "    <tr>\n",
       "      <th>PaymentTier</th>\n",
       "      <td>-0.110783</td>\n",
       "      <td>-0.084976</td>\n",
       "      <td>-0.198660</td>\n",
       "      <td>1.000000</td>\n",
       "      <td>0.018840</td>\n",
       "      <td>-0.194890</td>\n",
       "      <td>0.013231</td>\n",
       "      <td>0.012833</td>\n",
       "      <td>-0.184525</td>\n",
       "    </tr>\n",
       "    <tr>\n",
       "      <th>Age</th>\n",
       "      <td>-0.011727</td>\n",
       "      <td>0.007791</td>\n",
       "      <td>-0.046861</td>\n",
       "      <td>0.018840</td>\n",
       "      <td>1.000000</td>\n",
       "      <td>-0.007798</td>\n",
       "      <td>-0.001849</td>\n",
       "      <td>-0.119429</td>\n",
       "      <td>-0.046478</td>\n",
       "    </tr>\n",
       "    <tr>\n",
       "      <th>Gender</th>\n",
       "      <td>-0.009300</td>\n",
       "      <td>0.011890</td>\n",
       "      <td>0.175202</td>\n",
       "      <td>-0.194890</td>\n",
       "      <td>-0.007798</td>\n",
       "      <td>1.000000</td>\n",
       "      <td>0.000967</td>\n",
       "      <td>0.009465</td>\n",
       "      <td>0.193970</td>\n",
       "    </tr>\n",
       "    <tr>\n",
       "      <th>EverBenched</th>\n",
       "      <td>-0.043866</td>\n",
       "      <td>0.030428</td>\n",
       "      <td>-0.013333</td>\n",
       "      <td>0.013231</td>\n",
       "      <td>-0.001849</td>\n",
       "      <td>0.000967</td>\n",
       "      <td>1.000000</td>\n",
       "      <td>-0.012645</td>\n",
       "      <td>0.082703</td>\n",
       "    </tr>\n",
       "    <tr>\n",
       "      <th>ExperienceInCurrentDomain</th>\n",
       "      <td>-0.000715</td>\n",
       "      <td>-0.034522</td>\n",
       "      <td>-0.013922</td>\n",
       "      <td>0.012833</td>\n",
       "      <td>-0.119429</td>\n",
       "      <td>0.009465</td>\n",
       "      <td>-0.012645</td>\n",
       "      <td>1.000000</td>\n",
       "      <td>-0.034223</td>\n",
       "    </tr>\n",
       "    <tr>\n",
       "      <th>LeaveOrNot</th>\n",
       "      <td>0.085163</td>\n",
       "      <td>0.174958</td>\n",
       "      <td>0.079220</td>\n",
       "      <td>-0.184525</td>\n",
       "      <td>-0.046478</td>\n",
       "      <td>0.193970</td>\n",
       "      <td>0.082703</td>\n",
       "      <td>-0.034223</td>\n",
       "      <td>1.000000</td>\n",
       "    </tr>\n",
       "  </tbody>\n",
       "</table>\n",
       "</div>"
      ],
      "text/plain": [
       "                           Education  JoiningYear      City  PaymentTier  \\\n",
       "Education                   1.000000     0.138575  0.308896    -0.110783   \n",
       "JoiningYear                 0.138575     1.000000  0.129801    -0.084976   \n",
       "City                        0.308896     0.129801  1.000000    -0.198660   \n",
       "PaymentTier                -0.110783    -0.084976 -0.198660     1.000000   \n",
       "Age                        -0.011727     0.007791 -0.046861     0.018840   \n",
       "Gender                     -0.009300     0.011890  0.175202    -0.194890   \n",
       "EverBenched                -0.043866     0.030428 -0.013333     0.013231   \n",
       "ExperienceInCurrentDomain  -0.000715    -0.034522 -0.013922     0.012833   \n",
       "LeaveOrNot                  0.085163     0.174958  0.079220    -0.184525   \n",
       "\n",
       "                                Age    Gender  EverBenched  \\\n",
       "Education                 -0.011727 -0.009300    -0.043866   \n",
       "JoiningYear                0.007791  0.011890     0.030428   \n",
       "City                      -0.046861  0.175202    -0.013333   \n",
       "PaymentTier                0.018840 -0.194890     0.013231   \n",
       "Age                        1.000000 -0.007798    -0.001849   \n",
       "Gender                    -0.007798  1.000000     0.000967   \n",
       "EverBenched               -0.001849  0.000967     1.000000   \n",
       "ExperienceInCurrentDomain -0.119429  0.009465    -0.012645   \n",
       "LeaveOrNot                -0.046478  0.193970     0.082703   \n",
       "\n",
       "                           ExperienceInCurrentDomain  LeaveOrNot  \n",
       "Education                                  -0.000715    0.085163  \n",
       "JoiningYear                                -0.034522    0.174958  \n",
       "City                                       -0.013922    0.079220  \n",
       "PaymentTier                                 0.012833   -0.184525  \n",
       "Age                                        -0.119429   -0.046478  \n",
       "Gender                                      0.009465    0.193970  \n",
       "EverBenched                                -0.012645    0.082703  \n",
       "ExperienceInCurrentDomain                   1.000000   -0.034223  \n",
       "LeaveOrNot                                 -0.034223    1.000000  "
      ]
     },
     "execution_count": 29,
     "metadata": {},
     "output_type": "execute_result"
    },
    {
     "data": {
      "image/png": "[encoded data removed]",
      "text/plain": [
       "<Figure size 640x480 with 2 Axes>"
      ]
     },
     "metadata": {},
     "output_type": "display_data"
    }
   ],
   "source": [
    "corr = data_raw.corr(numeric_only=True)\n",
    "sns.heatmap(corr, square=True, cmap='coolwarm', vmin = -1, vmax = 1)\n",
    "pass\n",
    "corr"
   ]
  },
  {
   "cell_type": "markdown",
   "id": "194a9d7b",
   "metadata": {},
   "source": [
    "Видно, что параметры City и Education немного (~31%) коррелируют, но в рамках этой задачи такую степень корреляции можно проигнорировать."
   ]
  },
  {
   "cell_type": "markdown",
   "id": "cdea32c6",
   "metadata": {},
   "source": [
    "# 5. Нормализация"
   ]
  },
  {
   "cell_type": "markdown",
   "id": "2a5da7a1",
   "metadata": {},
   "source": [
    "Нормализуем данные в столбцах JoiningYear и Age"
   ]
  },
  {
   "cell_type": "code",
   "execution_count": 30,
   "id": "57fe7710",
   "metadata": {},
   "outputs": [
    {
     "data": {
      "text/html": [
       "<div>\n",
       "<style scoped>\n",
       "    .dataframe tbody tr th:only-of-type {\n",
       "        vertical-align: middle;\n",
       "    }\n",
       "\n",
       "    .dataframe tbody tr th {\n",
       "        vertical-align: top;\n",
       "    }\n",
       "\n",
       "    .dataframe thead th {\n",
       "        text-align: right;\n",
       "    }\n",
       "</style>\n",
       "<table border=\"1\" class=\"dataframe\">\n",
       "  <thead>\n",
       "    <tr style=\"text-align: right;\">\n",
       "      <th></th>\n",
       "      <th>Education</th>\n",
       "      <th>JoiningYear</th>\n",
       "      <th>City</th>\n",
       "      <th>PaymentTier</th>\n",
       "      <th>Age</th>\n",
       "      <th>Gender</th>\n",
       "      <th>EverBenched</th>\n",
       "      <th>ExperienceInCurrentDomain</th>\n",
       "      <th>LeaveOrNot</th>\n",
       "    </tr>\n",
       "  </thead>\n",
       "  <tbody>\n",
       "    <tr>\n",
       "      <th>0</th>\n",
       "      <td>0</td>\n",
       "      <td>0.999504</td>\n",
       "      <td>0</td>\n",
       "      <td>3.0</td>\n",
       "      <td>0.829268</td>\n",
       "      <td>0</td>\n",
       "      <td>0</td>\n",
       "      <td>0.0</td>\n",
       "      <td>0</td>\n",
       "    </tr>\n",
       "    <tr>\n",
       "      <th>1</th>\n",
       "      <td>0</td>\n",
       "      <td>0.997522</td>\n",
       "      <td>1</td>\n",
       "      <td>1.0</td>\n",
       "      <td>0.682927</td>\n",
       "      <td>1</td>\n",
       "      <td>0</td>\n",
       "      <td>3.0</td>\n",
       "      <td>1</td>\n",
       "    </tr>\n",
       "    <tr>\n",
       "      <th>2</th>\n",
       "      <td>0</td>\n",
       "      <td>0.998513</td>\n",
       "      <td>2</td>\n",
       "      <td>3.0</td>\n",
       "      <td>0.926829</td>\n",
       "      <td>1</td>\n",
       "      <td>0</td>\n",
       "      <td>2.0</td>\n",
       "      <td>0</td>\n",
       "    </tr>\n",
       "    <tr>\n",
       "      <th>3</th>\n",
       "      <td>1</td>\n",
       "      <td>0.999009</td>\n",
       "      <td>0</td>\n",
       "      <td>3.0</td>\n",
       "      <td>0.658537</td>\n",
       "      <td>0</td>\n",
       "      <td>0</td>\n",
       "      <td>3.0</td>\n",
       "      <td>1</td>\n",
       "    </tr>\n",
       "    <tr>\n",
       "      <th>4</th>\n",
       "      <td>1</td>\n",
       "      <td>0.999504</td>\n",
       "      <td>1</td>\n",
       "      <td>3.0</td>\n",
       "      <td>0.585366</td>\n",
       "      <td>0</td>\n",
       "      <td>0</td>\n",
       "      <td>2.0</td>\n",
       "      <td>1</td>\n",
       "    </tr>\n",
       "  </tbody>\n",
       "</table>\n",
       "</div>"
      ],
      "text/plain": [
       "   Education  JoiningYear  City  PaymentTier       Age  Gender  EverBenched  \\\n",
       "0          0     0.999504     0          3.0  0.829268       0            0   \n",
       "1          0     0.997522     1          1.0  0.682927       1            0   \n",
       "2          0     0.998513     2          3.0  0.926829       1            0   \n",
       "3          1     0.999009     0          3.0  0.658537       0            0   \n",
       "4          1     0.999504     1          3.0  0.585366       0            0   \n",
       "\n",
       "   ExperienceInCurrentDomain  LeaveOrNot  \n",
       "0                        0.0           0  \n",
       "1                        3.0           1  \n",
       "2                        2.0           0  \n",
       "3                        3.0           1  \n",
       "4                        2.0           1  "
      ]
     },
     "execution_count": 30,
     "metadata": {},
     "output_type": "execute_result"
    }
   ],
   "source": [
    "data_raw['JoiningYear'] = data_raw['JoiningYear'] / data_raw['JoiningYear'].max()\n",
    "data_raw['Age'] = data_raw['Age'] / data_raw['Age'].max()\n",
    "data_raw.head()"
   ]
  },
  {
   "cell_type": "markdown",
   "id": "e69cfa6a",
   "metadata": {},
   "source": [
    "# 6. Разбить данные на обучающую и тестовую выборки"
   ]
  },
  {
   "cell_type": "code",
   "execution_count": 31,
   "id": "987d5dac",
   "metadata": {},
   "outputs": [],
   "source": [
    "y = data_raw['LeaveOrNot']\n",
    "x = data_raw.drop(['LeaveOrNot'], axis=1)\n",
    "xTrain, xTest, yTrain, yTest = train_test_split(x, y, test_size = 0.3, random_state = 13)"
   ]
  },
  {
   "cell_type": "markdown",
   "id": "5cb7322c",
   "metadata": {},
   "source": [
    "# 7. Запустить классификатор ближайших соседей (попробовать разное их количество)"
   ]
  },
  {
   "cell_type": "markdown",
   "id": "89022610",
   "metadata": {},
   "source": [
    "## KNN"
   ]
  },
  {
   "cell_type": "code",
   "execution_count": 32,
   "id": "7b3da5d6",
   "metadata": {},
   "outputs": [],
   "source": [
    "from sklearn.neighbors import KNeighborsClassifier"
   ]
  },
  {
   "cell_type": "code",
   "execution_count": 33,
   "id": "767d1996",
   "metadata": {},
   "outputs": [
    {
     "name": "stdout",
     "output_type": "stream",
     "text": [
      "Точность с n = 1 соседями на\n",
      "Тренировочной выборке: 0.9038992938286767\n",
      "Тестовой выборке: 0.6998567335243553\n",
      "\n",
      "Точность с n = 3 соседями на\n",
      "Тренировочной выборке: 0.841264967761744\n",
      "Тестовой выборке: 0.7399713467048711\n",
      "\n",
      "Точность с n = 5 соседями на\n",
      "Тренировочной выборке: 0.8188517040221063\n",
      "Тестовой выборке: 0.7636103151862464\n",
      "\n",
      "Точность с n = 7 соседями на\n",
      "Тренировочной выборке: 0.8056493705864293\n",
      "Тестовой выборке: 0.7679083094555874\n",
      "\n",
      "Точность с n = 9 соседями на\n",
      "Тренировочной выборке: 0.7930610991710163\n",
      "Тестовой выборке: 0.7679083094555874\n",
      "\n",
      "Точность с n = 11 соседями на\n",
      "Тренировочной выборке: 0.7890696960393\n",
      "Тестовой выборке: 0.7671919770773639\n",
      "\n",
      "Точность с n = 13 соседями на\n",
      "Тренировочной выборке: 0.7823150138163955\n",
      "Тестовой выборке: 0.7628939828080229\n",
      "\n",
      "Точность с n = 15 соседями на\n",
      "Тренировочной выборке: 0.7755603315934909\n",
      "Тестовой выборке: 0.7621776504297995\n",
      "\n",
      "Точность с n = 17 соседями на\n",
      "Тренировочной выборке: 0.7709548664415106\n",
      "Тестовой выборке: 0.7571633237822349\n",
      "\n",
      "Точность с n = 19 соседями на\n",
      "Тренировочной выборке: 0.7688056493705864\n",
      "Тестовой выборке: 0.7550143266475645\n",
      "\n",
      "Минимальная ошибка на тестовой выборке для метода KNN:  0.2320916905444126\n"
     ]
    }
   ],
   "source": [
    "KNNScore = 0\n",
    "bestN = 1\n",
    "for kNeighbors in range(1, 20, 2):\n",
    "    knn = KNeighborsClassifier(n_neighbors=kNeighbors)\n",
    "    knn.fit(xTrain, yTrain)\n",
    "    trainScore = knn.score(xTrain, yTrain)\n",
    "    testScore = knn.score(xTest, yTest)\n",
    "    if (testScore > KNNScore):\n",
    "        KNNScore = testScore\n",
    "        bestN = kNeighbors\n",
    "    print(f\"Точность с n = {kNeighbors} соседями на\\nТренировочной выборке: {trainScore}\\nТестовой выборке: {testScore}\\n\")\n",
    "\n",
    "print(\"Минимальная ошибка на тестовой выборке для метода KNN: \", 1 - KNNScore)"
   ]
  },
  {
   "cell_type": "markdown",
   "id": "04a39953",
   "metadata": {},
   "source": [
    "## SVC"
   ]
  },
  {
   "cell_type": "code",
   "execution_count": 34,
   "id": "a0664778",
   "metadata": {},
   "outputs": [],
   "source": [
    "from sklearn.svm import SVC"
   ]
  },
  {
   "cell_type": "code",
   "execution_count": 35,
   "id": "f9a08a1d",
   "metadata": {},
   "outputs": [
    {
     "name": "stdout",
     "output_type": "stream",
     "text": [
      "Точность на\n",
      "Тренировочной выборке: 0.7163033466380104\n",
      "Тестовой выборке: 0.7134670487106017\n",
      "\n"
     ]
    }
   ],
   "source": [
    "svc = SVC(gamma = 'auto')\n",
    "svc.fit(xTrain, yTrain)\n",
    "trainScore = svc.score(xTrain, yTrain)\n",
    "testScore = svc.score(xTest, yTest)\n",
    "SVCScore = testScore\n",
    "print(f\"Точность на\\nТренировочной выборке: {trainScore}\\nТестовой выборке: {testScore}\\n\")"
   ]
  },
  {
   "cell_type": "markdown",
   "id": "b35f2d3a",
   "metadata": {},
   "source": [
    "## Random Forest"
   ]
  },
  {
   "cell_type": "code",
   "execution_count": 36,
   "id": "6ce6b231",
   "metadata": {},
   "outputs": [],
   "source": [
    "from sklearn import ensemble"
   ]
  },
  {
   "cell_type": "code",
   "execution_count": 37,
   "id": "3644c162",
   "metadata": {},
   "outputs": [
    {
     "name": "stdout",
     "output_type": "stream",
     "text": [
      "Точность на\n",
      "Тренировочной выборке: 0.9247774025176543\n",
      "Тестовой выборке: 0.7987106017191977\n",
      "\n"
     ]
    }
   ],
   "source": [
    "rfc = ensemble.RandomForestClassifier()\n",
    "rfc.fit(xTrain, yTrain)\n",
    "trainScore = rfc.score(xTrain, yTrain)\n",
    "testScore = rfc.score(xTest, yTest)\n",
    "RFCScore = testScore\n",
    "print(f\"Точность на\\nТренировочной выборке: {trainScore}\\nТестовой выборке: {testScore}\\n\")"
   ]
  },
  {
   "cell_type": "markdown",
   "id": "2443e62c",
   "metadata": {},
   "source": [
    "## Ada Boost Classifier"
   ]
  },
  {
   "cell_type": "code",
   "execution_count": 38,
   "id": "885b88f7",
   "metadata": {},
   "outputs": [
    {
     "name": "stdout",
     "output_type": "stream",
     "text": [
      "Точность на\n",
      "Тренировочной выборке: 0.7863064169481118\n",
      "Тестовой выборке: 0.7851002865329513\n",
      "\n"
     ]
    }
   ],
   "source": [
    "abc = ensemble.AdaBoostClassifier()\n",
    "abc.fit(xTrain, yTrain)\n",
    "trainScore = abc.score(xTrain, yTrain)\n",
    "testScore = abc.score(xTest, yTest)\n",
    "ABCScore = testScore\n",
    "print(f\"Точность на\\nТренировочной выборке: {trainScore}\\nТестовой выборке: {testScore}\\n\")"
   ]
  },
  {
   "cell_type": "markdown",
   "id": "5b3ab93f",
   "metadata": {},
   "source": [
    "## Результаты"
   ]
  },
  {
   "cell_type": "code",
   "execution_count": 39,
   "id": "f9cbc8cf",
   "metadata": {},
   "outputs": [
    {
     "data": {
      "image/png": "[encoded data removed]"
     },
     "metadata": {},
     "output_type": "display_data"
    }
   ],
   "source": [
    "import plotly.express as px\n",
    "import plotly.graph_objects as go\n",
    "\n",
    "scores = [KNNScore, SVCScore, RFCScore, ABCScore]\n",
    "algs = [\"K-NN\",\"Support Vector Machines\",\"Random Forest\",\"AdaBoost\"]\n",
    "\n",
    "fig1 = px.line(x=algs,\n",
    "               y=scores)\n",
    "\n",
    "fig2 = px.scatter(x=algs,\n",
    "                 y=scores)\n",
    "\n",
    "fig3 = go.Figure(data=fig1.data + fig2.data)\n",
    "fig3.show(\"png\")"
   ]
  },
  {
   "cell_type": "markdown",
   "id": "de272642",
   "metadata": {},
   "source": [
    "# Вывод"
   ]
  },
  {
   "cell_type": "markdown",
   "id": "70a654e8",
   "metadata": {},
   "source": [
    "По результатам запуска различных алгоритмов, наилучшую точность показал классификатор Random Forest (~80%). Большой показатель ошибки во всех использованных алгоритмах отчасти обусловлен фактором случайности в решении человека об уходе из компании. Имеющиеся данные не в полной мере обуславливают этот выбор. Но всё же полученный результат предсказания достаточно неплохо предугадывает, покинет человек свое место работы или нет."
   ]
  }
 ],
 "metadata": {
  "kernelspec": {
   "display_name": "Python 3 (ipykernel)",
   "language": "python",
   "name": "python3"
  },
  "language_info": {
   "codemirror_mode": {
    "name": "ipython",
    "version": 3
   },
   "file_extension": ".py",
   "mimetype": "text/x-python",
   "name": "python",
   "nbconvert_exporter": "python",
   "pygments_lexer": "ipython3",
   "version": "3.9.7"
  }
 },
 "nbformat": 4,
 "nbformat_minor": 5
}
