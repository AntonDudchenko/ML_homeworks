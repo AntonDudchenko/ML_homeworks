{
 "cells": [
  {
   "cell_type": "code",
   "execution_count": 2,
   "id": "4b9de7a8",
   "metadata": {},
   "outputs": [],
   "source": [
    "import sklearn\n",
    "import seaborn as sns\n",
    "import pandas as pd\n",
    "import numpy as np\n",
    "import matplotlib.pyplot as plt\n",
    "%matplotlib inline"
   ]
  },
  {
   "cell_type": "markdown",
   "id": "5fa7a804",
   "metadata": {},
   "source": [
    "# 0. Описание задачи"
   ]
  },
  {
   "cell_type": "markdown",
   "id": "a7ea21b7",
   "metadata": {},
   "source": [
    "Исходная таблица с данными содержит статистику по сотрудникам. Необходимо по значениям признаков узнать, покинет ли сотрудник компанию в ближайшие два года.\n",
    "\n",
    "Признаки:\n",
    "* Education - уровень образования сотрудника {Bachelors, Masters, Phd}\n",
    "* JoiningYear - год начала работы в компании {2012, 2013, 2014, 2015, 2016, 2017, 2018}\n",
    "* City - город, в котором работает сотрудник {Bangalore, Pune, New Delhi}\n",
    "* PaymentTier - уровень оплаты {1, 2, 3}\n",
    "* Age - возраст сотрудника\n",
    "* Gender - пол сотрудника {Male, Female}\n",
    "* EverBenched - находился ли сотрудник \"в запасе\" (не работал ни над одним из проектов)\n",
    "* ExperienceInCurrentDomain - опыт сотрудника в текущем проекте\n",
    "* LeaveOrNot - покинул ли сотрудник организацию"
   ]
  },
  {
   "cell_type": "code",
   "execution_count": 3,
   "id": "1d36bdeb",
   "metadata": {},
   "outputs": [
    {
     "data": {
      "text/html": [
       "<div>\n",
       "<style scoped>\n",
       "    .dataframe tbody tr th:only-of-type {\n",
       "        vertical-align: middle;\n",
       "    }\n",
       "\n",
       "    .dataframe tbody tr th {\n",
       "        vertical-align: top;\n",
       "    }\n",
       "\n",
       "    .dataframe thead th {\n",
       "        text-align: right;\n",
       "    }\n",
       "</style>\n",
       "<table border=\"1\" class=\"dataframe\">\n",
       "  <thead>\n",
       "    <tr style=\"text-align: right;\">\n",
       "      <th></th>\n",
       "      <th>Education</th>\n",
       "      <th>JoiningYear</th>\n",
       "      <th>City</th>\n",
       "      <th>PaymentTier</th>\n",
       "      <th>Age</th>\n",
       "      <th>Gender</th>\n",
       "      <th>EverBenched</th>\n",
       "      <th>ExperienceInCurrentDomain</th>\n",
       "      <th>LeaveOrNot</th>\n",
       "    </tr>\n",
       "  </thead>\n",
       "  <tbody>\n",
       "    <tr>\n",
       "      <th>0</th>\n",
       "      <td>Bachelors</td>\n",
       "      <td>2017.0</td>\n",
       "      <td>Bangalore</td>\n",
       "      <td>3.0</td>\n",
       "      <td>34.0</td>\n",
       "      <td>Male</td>\n",
       "      <td>No</td>\n",
       "      <td>0.0</td>\n",
       "      <td>0</td>\n",
       "    </tr>\n",
       "    <tr>\n",
       "      <th>1</th>\n",
       "      <td>Bachelors</td>\n",
       "      <td>2013.0</td>\n",
       "      <td>Pune</td>\n",
       "      <td>1.0</td>\n",
       "      <td>28.0</td>\n",
       "      <td>Female</td>\n",
       "      <td>No</td>\n",
       "      <td>NaN</td>\n",
       "      <td>1</td>\n",
       "    </tr>\n",
       "    <tr>\n",
       "      <th>2</th>\n",
       "      <td>Bachelors</td>\n",
       "      <td>2014.0</td>\n",
       "      <td>New Delhi</td>\n",
       "      <td>3.0</td>\n",
       "      <td>38.0</td>\n",
       "      <td>Female</td>\n",
       "      <td>No</td>\n",
       "      <td>2.0</td>\n",
       "      <td>0</td>\n",
       "    </tr>\n",
       "    <tr>\n",
       "      <th>3</th>\n",
       "      <td>Masters</td>\n",
       "      <td>2016.0</td>\n",
       "      <td>Bangalore</td>\n",
       "      <td>3.0</td>\n",
       "      <td>27.0</td>\n",
       "      <td>Male</td>\n",
       "      <td>No</td>\n",
       "      <td>5.0</td>\n",
       "      <td>1</td>\n",
       "    </tr>\n",
       "    <tr>\n",
       "      <th>4</th>\n",
       "      <td>NaN</td>\n",
       "      <td>2017.0</td>\n",
       "      <td>Pune</td>\n",
       "      <td>3.0</td>\n",
       "      <td>24.0</td>\n",
       "      <td>Male</td>\n",
       "      <td>Yes</td>\n",
       "      <td>2.0</td>\n",
       "      <td>1</td>\n",
       "    </tr>\n",
       "  </tbody>\n",
       "</table>\n",
       "</div>"
      ],
      "text/plain": [
       "   Education  JoiningYear       City  PaymentTier   Age  Gender EverBenched  \\\n",
       "0  Bachelors       2017.0  Bangalore          3.0  34.0    Male          No   \n",
       "1  Bachelors       2013.0       Pune          1.0  28.0  Female          No   \n",
       "2  Bachelors       2014.0  New Delhi          3.0  38.0  Female          No   \n",
       "3    Masters       2016.0  Bangalore          3.0  27.0    Male          No   \n",
       "4        NaN       2017.0       Pune          3.0  24.0    Male         Yes   \n",
       "\n",
       "   ExperienceInCurrentDomain  LeaveOrNot  \n",
       "0                        0.0           0  \n",
       "1                        NaN           1  \n",
       "2                        2.0           0  \n",
       "3                        5.0           1  \n",
       "4                        2.0           1  "
      ]
     },
     "execution_count": 3,
     "metadata": {},
     "output_type": "execute_result"
    }
   ],
   "source": [
    "data_raw = pd.read_csv(\"./LostData.csv\")\n",
    "data_raw.head()"
   ]
  },
  {
   "cell_type": "code",
   "execution_count": 4,
   "id": "ab2f08b8",
   "metadata": {},
   "outputs": [
    {
     "data": {
      "text/html": [
       "<div>\n",
       "<style scoped>\n",
       "    .dataframe tbody tr th:only-of-type {\n",
       "        vertical-align: middle;\n",
       "    }\n",
       "\n",
       "    .dataframe tbody tr th {\n",
       "        vertical-align: top;\n",
       "    }\n",
       "\n",
       "    .dataframe thead th {\n",
       "        text-align: right;\n",
       "    }\n",
       "</style>\n",
       "<table border=\"1\" class=\"dataframe\">\n",
       "  <thead>\n",
       "    <tr style=\"text-align: right;\">\n",
       "      <th></th>\n",
       "      <th>Education</th>\n",
       "      <th>JoiningYear</th>\n",
       "      <th>City</th>\n",
       "      <th>PaymentTier</th>\n",
       "      <th>Age</th>\n",
       "      <th>Gender</th>\n",
       "      <th>EverBenched</th>\n",
       "      <th>ExperienceInCurrentDomain</th>\n",
       "      <th>LeaveOrNot</th>\n",
       "    </tr>\n",
       "  </thead>\n",
       "  <tbody>\n",
       "    <tr>\n",
       "      <th>4648</th>\n",
       "      <td>Bachelors</td>\n",
       "      <td>2013.0</td>\n",
       "      <td>Bangalore</td>\n",
       "      <td>3.0</td>\n",
       "      <td>26.0</td>\n",
       "      <td>Female</td>\n",
       "      <td>No</td>\n",
       "      <td>4.0</td>\n",
       "      <td>0</td>\n",
       "    </tr>\n",
       "    <tr>\n",
       "      <th>4649</th>\n",
       "      <td>Masters</td>\n",
       "      <td>2013.0</td>\n",
       "      <td>Pune</td>\n",
       "      <td>2.0</td>\n",
       "      <td>37.0</td>\n",
       "      <td>Male</td>\n",
       "      <td>No</td>\n",
       "      <td>2.0</td>\n",
       "      <td>1</td>\n",
       "    </tr>\n",
       "    <tr>\n",
       "      <th>4650</th>\n",
       "      <td>Masters</td>\n",
       "      <td>2018.0</td>\n",
       "      <td>New Delhi</td>\n",
       "      <td>3.0</td>\n",
       "      <td>27.0</td>\n",
       "      <td>Male</td>\n",
       "      <td>No</td>\n",
       "      <td>5.0</td>\n",
       "      <td>1</td>\n",
       "    </tr>\n",
       "    <tr>\n",
       "      <th>4651</th>\n",
       "      <td>Bachelors</td>\n",
       "      <td>2012.0</td>\n",
       "      <td>Bangalore</td>\n",
       "      <td>3.0</td>\n",
       "      <td>30.0</td>\n",
       "      <td>Male</td>\n",
       "      <td>Yes</td>\n",
       "      <td>2.0</td>\n",
       "      <td>0</td>\n",
       "    </tr>\n",
       "    <tr>\n",
       "      <th>4652</th>\n",
       "      <td>Bachelors</td>\n",
       "      <td>2015.0</td>\n",
       "      <td>Bangalore</td>\n",
       "      <td>3.0</td>\n",
       "      <td>33.0</td>\n",
       "      <td>Male</td>\n",
       "      <td>Yes</td>\n",
       "      <td>4.0</td>\n",
       "      <td>0</td>\n",
       "    </tr>\n",
       "  </tbody>\n",
       "</table>\n",
       "</div>"
      ],
      "text/plain": [
       "      Education  JoiningYear       City  PaymentTier   Age  Gender  \\\n",
       "4648  Bachelors       2013.0  Bangalore          3.0  26.0  Female   \n",
       "4649    Masters       2013.0       Pune          2.0  37.0    Male   \n",
       "4650    Masters       2018.0  New Delhi          3.0  27.0    Male   \n",
       "4651  Bachelors       2012.0  Bangalore          3.0  30.0    Male   \n",
       "4652  Bachelors       2015.0  Bangalore          3.0  33.0    Male   \n",
       "\n",
       "     EverBenched  ExperienceInCurrentDomain  LeaveOrNot  \n",
       "4648          No                        4.0           0  \n",
       "4649          No                        2.0           1  \n",
       "4650          No                        5.0           1  \n",
       "4651         Yes                        2.0           0  \n",
       "4652         Yes                        4.0           0  "
      ]
     },
     "execution_count": 4,
     "metadata": {},
     "output_type": "execute_result"
    }
   ],
   "source": [
    "data_raw.tail()"
   ]
  },
  {
   "cell_type": "code",
   "execution_count": 5,
   "id": "20c0a202",
   "metadata": {},
   "outputs": [
    {
     "data": {
      "text/plain": [
       "Index(['Education', 'JoiningYear', 'City', 'PaymentTier', 'Age', 'Gender',\n",
       "       'EverBenched', 'ExperienceInCurrentDomain', 'LeaveOrNot'],\n",
       "      dtype='object')"
      ]
     },
     "execution_count": 5,
     "metadata": {},
     "output_type": "execute_result"
    }
   ],
   "source": [
    "data_raw.columns"
   ]
  },
  {
   "cell_type": "code",
   "execution_count": 6,
   "id": "5bec7d20",
   "metadata": {},
   "outputs": [
    {
     "data": {
      "text/plain": [
       "Education                     3\n",
       "JoiningYear                   7\n",
       "City                          3\n",
       "PaymentTier                   3\n",
       "Age                          20\n",
       "Gender                        2\n",
       "EverBenched                   2\n",
       "ExperienceInCurrentDomain     8\n",
       "LeaveOrNot                    2\n",
       "dtype: int64"
      ]
     },
     "execution_count": 6,
     "metadata": {},
     "output_type": "execute_result"
    }
   ],
   "source": [
    "data_raw.nunique() # Количество уникальных значений каждого признака"
   ]
  },
  {
   "cell_type": "code",
   "execution_count": 7,
   "id": "5abd01f9",
   "metadata": {},
   "outputs": [
    {
     "name": "stdout",
     "output_type": "stream",
     "text": [
      "<class 'pandas.core.frame.DataFrame'>\n",
      "RangeIndex: 4653 entries, 0 to 4652\n",
      "Data columns (total 9 columns):\n",
      " #   Column                     Non-Null Count  Dtype  \n",
      "---  ------                     --------------  -----  \n",
      " 0   Education                  4583 non-null   object \n",
      " 1   JoiningYear                4602 non-null   float64\n",
      " 2   City                       4596 non-null   object \n",
      " 3   PaymentTier                4600 non-null   float64\n",
      " 4   Age                        4597 non-null   float64\n",
      " 5   Gender                     4595 non-null   object \n",
      " 6   EverBenched                4598 non-null   object \n",
      " 7   ExperienceInCurrentDomain  4588 non-null   float64\n",
      " 8   LeaveOrNot                 4653 non-null   int64  \n",
      "dtypes: float64(4), int64(1), object(4)\n",
      "memory usage: 327.3+ KB\n"
     ]
    }
   ],
   "source": [
    "data_raw.info()"
   ]
  },
  {
   "cell_type": "code",
   "execution_count": 21,
   "id": "4c774e22",
   "metadata": {
    "scrolled": false
   },
   "outputs": [],
   "source": [
    "# data_raw['Education'] = data_raw['Education'].astype('category') # Замена типов на категориальные (почти все значения имеют категориальный или бинарный типы)\n",
    "# data_raw['City'] = data_raw['City'].astype('category')\n",
    "# data_raw['PaymentTier'] = data_raw['PaymentTier'].astype('category')\n",
    "# data_raw['Gender'] = data_raw['Gender'].astype('category')\n",
    "# data_raw['EverBenched'] = data_raw['EverBenched'].astype('category')\n",
    "# data_raw['LeaveOrNot'] = data_raw['LeaveOrNot'].astype('category')"
   ]
  },
  {
   "cell_type": "code",
   "execution_count": 22,
   "id": "8a8e33eb",
   "metadata": {
    "scrolled": true
   },
   "outputs": [
    {
     "name": "stdout",
     "output_type": "stream",
     "text": [
      "<class 'pandas.core.frame.DataFrame'>\n",
      "RangeIndex: 4653 entries, 0 to 4652\n",
      "Data columns (total 9 columns):\n",
      " #   Column                     Non-Null Count  Dtype   \n",
      "---  ------                     --------------  -----   \n",
      " 0   Education                  4583 non-null   category\n",
      " 1   JoiningYear                4602 non-null   float64 \n",
      " 2   City                       4596 non-null   category\n",
      " 3   PaymentTier                4600 non-null   category\n",
      " 4   Age                        4597 non-null   float64 \n",
      " 5   Gender                     4595 non-null   category\n",
      " 6   EverBenched                4598 non-null   category\n",
      " 7   ExperienceInCurrentDomain  4588 non-null   float64 \n",
      " 8   LeaveOrNot                 4653 non-null   category\n",
      "dtypes: category(6), float64(3)\n",
      "memory usage: 137.2 KB\n"
     ]
    }
   ],
   "source": [
    "data_raw.info()"
   ]
  },
  {
   "cell_type": "code",
   "execution_count": 11,
   "id": "db08d23a",
   "metadata": {},
   "outputs": [
    {
     "data": {
      "text/html": [
       "<div>\n",
       "<style scoped>\n",
       "    .dataframe tbody tr th:only-of-type {\n",
       "        vertical-align: middle;\n",
       "    }\n",
       "\n",
       "    .dataframe tbody tr th {\n",
       "        vertical-align: top;\n",
       "    }\n",
       "\n",
       "    .dataframe thead th {\n",
       "        text-align: right;\n",
       "    }\n",
       "</style>\n",
       "<table border=\"1\" class=\"dataframe\">\n",
       "  <thead>\n",
       "    <tr style=\"text-align: right;\">\n",
       "      <th></th>\n",
       "      <th>JoiningYear</th>\n",
       "      <th>Age</th>\n",
       "      <th>ExperienceInCurrentDomain</th>\n",
       "    </tr>\n",
       "  </thead>\n",
       "  <tbody>\n",
       "    <tr>\n",
       "      <th>count</th>\n",
       "      <td>4602.000000</td>\n",
       "      <td>4597.000000</td>\n",
       "      <td>4588.000000</td>\n",
       "    </tr>\n",
       "    <tr>\n",
       "      <th>mean</th>\n",
       "      <td>2015.058670</td>\n",
       "      <td>29.382641</td>\n",
       "      <td>2.902136</td>\n",
       "    </tr>\n",
       "    <tr>\n",
       "      <th>std</th>\n",
       "      <td>1.862717</td>\n",
       "      <td>4.821260</td>\n",
       "      <td>1.558891</td>\n",
       "    </tr>\n",
       "    <tr>\n",
       "      <th>min</th>\n",
       "      <td>2012.000000</td>\n",
       "      <td>22.000000</td>\n",
       "      <td>0.000000</td>\n",
       "    </tr>\n",
       "    <tr>\n",
       "      <th>25%</th>\n",
       "      <td>2013.000000</td>\n",
       "      <td>26.000000</td>\n",
       "      <td>2.000000</td>\n",
       "    </tr>\n",
       "    <tr>\n",
       "      <th>50%</th>\n",
       "      <td>2015.000000</td>\n",
       "      <td>28.000000</td>\n",
       "      <td>3.000000</td>\n",
       "    </tr>\n",
       "    <tr>\n",
       "      <th>75%</th>\n",
       "      <td>2017.000000</td>\n",
       "      <td>32.000000</td>\n",
       "      <td>4.000000</td>\n",
       "    </tr>\n",
       "    <tr>\n",
       "      <th>max</th>\n",
       "      <td>2018.000000</td>\n",
       "      <td>41.000000</td>\n",
       "      <td>7.000000</td>\n",
       "    </tr>\n",
       "  </tbody>\n",
       "</table>\n",
       "</div>"
      ],
      "text/plain": [
       "       JoiningYear          Age  ExperienceInCurrentDomain\n",
       "count  4602.000000  4597.000000                4588.000000\n",
       "mean   2015.058670    29.382641                   2.902136\n",
       "std       1.862717     4.821260                   1.558891\n",
       "min    2012.000000    22.000000                   0.000000\n",
       "25%    2013.000000    26.000000                   2.000000\n",
       "50%    2015.000000    28.000000                   3.000000\n",
       "75%    2017.000000    32.000000                   4.000000\n",
       "max    2018.000000    41.000000                   7.000000"
      ]
     },
     "execution_count": 11,
     "metadata": {},
     "output_type": "execute_result"
    }
   ],
   "source": [
    "data_raw.describe()"
   ]
  },
  {
   "cell_type": "code",
   "execution_count": 20,
   "id": "95256792",
   "metadata": {},
   "outputs": [
    {
     "data": {
      "text/plain": [
       "array([[<AxesSubplot:xlabel='JoiningYear', ylabel='JoiningYear'>,\n",
       "        <AxesSubplot:xlabel='Age', ylabel='JoiningYear'>,\n",
       "        <AxesSubplot:xlabel='ExperienceInCurrentDomain', ylabel='JoiningYear'>],\n",
       "       [<AxesSubplot:xlabel='JoiningYear', ylabel='Age'>,\n",
       "        <AxesSubplot:xlabel='Age', ylabel='Age'>,\n",
       "        <AxesSubplot:xlabel='ExperienceInCurrentDomain', ylabel='Age'>],\n",
       "       [<AxesSubplot:xlabel='JoiningYear', ylabel='ExperienceInCurrentDomain'>,\n",
       "        <AxesSubplot:xlabel='Age', ylabel='ExperienceInCurrentDomain'>,\n",
       "        <AxesSubplot:xlabel='ExperienceInCurrentDomain', ylabel='ExperienceInCurrentDomain'>]],\n",
       "      dtype=object)"
      ]
     },
     "execution_count": 20,
     "metadata": {},
     "output_type": "execute_result"
    },
    {
     "data": {
      "image/png": "[encoded data removed]",
      "text/plain": [
       "<Figure size 900x900 with 9 Axes>"
      ]
     },
     "metadata": {},
     "output_type": "display_data"
    }
   ],
   "source": [
    "from pandas.plotting import scatter_matrix\n",
    "scatter_matrix(data_raw, alpha = .05, figsize = (9, 9), color='red')"
   ]
  },
  {
   "cell_type": "code",
   "execution_count": null,
   "id": "4634d606",
   "metadata": {},
   "outputs": [],
   "source": []
  }
 ],
 "metadata": {
  "kernelspec": {
   "display_name": "Python 3 (ipykernel)",
   "language": "python",
   "name": "python3"
  },
  "language_info": {
   "codemirror_mode": {
    "name": "ipython",
    "version": 3
   },
   "file_extension": ".py",
   "mimetype": "text/x-python",
   "name": "python",
   "nbconvert_exporter": "python",
   "pygments_lexer": "ipython3",
   "version": "3.9.7"
  }
 },
 "nbformat": 4,
 "nbformat_minor": 5
}
