{
 "cells": [
  {
   "cell_type": "code",
   "execution_count": null,
   "id": "4b9de7a8",
   "metadata": {},
   "outputs": [],
   "source": [
    "import sklearn\n",
    "import seaborn as sns\n",
    "import pandas as pd\n",
    "import numpy as np\n",
    "import matplotlib.pyplot as plt\n",
    "%matplotlib inline"
   ]
  },
  {
   "cell_type": "markdown",
   "id": "5fa7a804",
   "metadata": {},
   "source": [
    "# 0. Описание задачи"
   ]
  },
  {
   "cell_type": "markdown",
   "id": "a7ea21b7",
   "metadata": {},
   "source": [
    "Исходная таблица с данными содержит статистику по сотрудникам. Необходимо по значениям признаков узнать, покинет ли сотрудник компанию в ближайшие два года.\n",
    "\n",
    "Признаки:\n",
    "* Education - уровень образования сотрудника {Bachelors, Masters, Phd}\n",
    "* JoiningYear - год начала работы в компании {2012, 2013, 2014, 2015, 2016, 2017, 2018}\n",
    "* City - город, в котором работает сотрудник {Bangalore, Pune, New Delhi}\n",
    "* PaymentTier - уровень оплаты {1, 2, 3}\n",
    "* Age - возраст сотрудника\n",
    "* Gender - пол сотрудника {Male, Female}\n",
    "* EverBenched - находился ли сотрудник \"в запасе\" (не работал ни над одним из проектов)\n",
    "* ExperienceInCurrentDomain - опыт сотрудника в текущем проекте\n",
    "* LeaveOrNot - покинул ли сотрудник организацию"
   ]
  },
  {
   "cell_type": "code",
   "execution_count": null,
   "id": "12d9ffc0",
   "metadata": {},
   "outputs": [],
   "source": [
    "data_raw = pd.read_csv(\"./Employee.csv\")\n",
    "data_raw.head()"
   ]
  },
  {
   "cell_type": "code",
   "execution_count": null,
   "id": "9aac69d5",
   "metadata": {},
   "outputs": [],
   "source": []
  }
 ],
 "metadata": {
  "kernelspec": {
   "display_name": "Python 3 (ipykernel)",
   "language": "python",
   "name": "python3"
  },
  "language_info": {
   "codemirror_mode": {
    "name": "ipython",
    "version": 3
   },
   "file_extension": ".py",
   "mimetype": "text/x-python",
   "name": "python",
   "nbconvert_exporter": "python",
   "pygments_lexer": "ipython3",
   "version": "3.9.7"
  }
 },
 "nbformat": 4,
 "nbformat_minor": 5
}
